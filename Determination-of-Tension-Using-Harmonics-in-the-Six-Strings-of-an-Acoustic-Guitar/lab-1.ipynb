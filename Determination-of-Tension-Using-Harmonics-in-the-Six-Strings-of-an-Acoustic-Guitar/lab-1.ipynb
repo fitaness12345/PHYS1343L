{
 "cells": [
  {
   "cell_type": "markdown",
   "metadata": {},
   "source": [
    "# Determination of Tension Using Harmonics in the Six Strings of an Acoustic Guitar\n",
    "\n",
    "\n",
    "by: **Lourenz Baliber** and **Brian Acuna**"
   ]
  },
  {
   "cell_type": "markdown",
   "metadata": {},
   "source": [
    "## Theory"
   ]
  },
  {
   "cell_type": "markdown",
   "metadata": {},
   "source": [
    "\n",
    "Theoretically, the speed of wave in a string is equal to the square root of the tension over the linear density of the string.\n",
    "\n",
    "\\begin{equation}\\label{eq:1}\n",
    "v = \\sqrt{\\frac{T}{\\mu}}\n",
    "\\end{equation}\n",
    "\n",
    "\\noindent Where $v$ is the speed of the wave. $T$ is the tension and $\\mu$ is the linear density of the string. From equation \\eqref{eq:1}, we can rewrite this equation into the form $y = mx$ in order to calculate the value of T.\n",
    "\n",
    "\\begin{equation}\\label{eq:2}\n",
    "v^{2} = T\\mu^{-1}\n",
    "\\end{equation}\n",
    "\n",
    "We can also solve for the individual values of string tension for strings: Low E, A, D, G, B, and High E using,\n",
    "\n",
    "\\begin{equation}\\label{eq:3}\n",
    "T = v^{2}\\mu\n",
    "\\end{equation}\n",
    "\n",
    "In order to get the value of $v$ and $\\mu$, utilizing harmonics to calculate the wavelength of the string using the scale length,\n",
    "\n",
    "\\begin{equation}\\label{eq:4}\n",
    "L = n\\frac{\\lambda}{2} \\,\\,\\,\\,\\, ; \\,\\,\\,\\,\\, (n = 1,2,3)\n",
    "\\end{equation}\n",
    "\n",
    "where $n$ corresponds to the number of harmonics and $L$ is the wavelength. Obtaining the value of wavelength from equation \\eqref{eq:4},\n",
    "\n",
    "\\begin{equation}\\label{eq:5}\n",
    "\\lambda_{n} = \\frac{2L}{n}\n",
    "\\end{equation}\n",
    "\n",
    "and solving for the value of the speed of wave gives,\n",
    "\n",
    "\\begin{equation}\\label{eq:6}\n",
    "v = f\\lambda_{n}\n",
    "\\end{equation}"
   ]
  },
  {
   "cell_type": "code",
   "execution_count": 1,
   "metadata": {},
   "outputs": [],
   "source": [
    "import pandas as pd\n",
    "import numpy as np\n",
    "import matplotlib.pyplot as plt\n",
    "import seaborn as sns\n",
    "from scipy.optimize import curve_fit\n",
    "plt.style.use(\"seaborn-whitegrid\")\n",
    "\n",
    "%matplotlib inline"
   ]
  },
  {
   "cell_type": "code",
   "execution_count": 2,
   "metadata": {
    "scrolled": true
   },
   "outputs": [],
   "source": [
    "strings = np.array([\"Low_E\", \"A\", \"D\", \"G\", \"B\", \"High_E\"])\n",
    "harmonics = np.array([\"fundamental_freq\", \"snd_harmonic\", \"trd_harmonic\"])\n",
    "ld = np.array([0.006790, 0.004466, 0.002333, 0.001140, 0.000708, 0.000401])\n",
    "L = 0.6477 # in meter\n",
    "\n",
    "def fundamental(L):\n",
    "    \n",
    "    fund_wl = 2*L/1\n",
    "    return fund_wl\n",
    "\n",
    "def second_harmonic(L):\n",
    "    \n",
    "    second_h = 2*L/2\n",
    "    return second_h\n",
    "\n",
    "def third_harmonic(L):\n",
    "    \n",
    "    third_h = 2*L/3\n",
    "    return third_h\n",
    "\n",
    "def v(f, wl):\n",
    "    \n",
    "    v = f*wl\n",
    "    return v\n",
    "\n",
    "def v_squared(freq, wavelength):\n",
    "    \n",
    "    v_square = freq*wavelength^2\n",
    "    return v_square"
   ]
  },
  {
   "cell_type": "code",
   "execution_count": 3,
   "metadata": {},
   "outputs": [
    {
     "name": "stdout",
     "output_type": "stream",
     "text": [
      "Fundamental wavelength: 1.2954\n",
      "Second harmonic wavelength: 0.6477\n",
      "Third harmonic wavelength: 0.4318\n"
     ]
    }
   ],
   "source": [
    "fund_wl = fundamental(L)\n",
    "sh_wl = second_harmonic(L)\n",
    "th_wl = third_harmonic(L)\n",
    "print(f\"Fundamental wavelength: {fund_wl}\\nSecond harmonic wavelength: {sh_wl}\\nThird harmonic wavelength: {th_wl}\")"
   ]
  },
  {
   "cell_type": "code",
   "execution_count": 4,
   "metadata": {},
   "outputs": [
    {
     "data": {
      "text/html": [
       "<div>\n",
       "<style scoped>\n",
       "    .dataframe tbody tr th:only-of-type {\n",
       "        vertical-align: middle;\n",
       "    }\n",
       "\n",
       "    .dataframe tbody tr th {\n",
       "        vertical-align: top;\n",
       "    }\n",
       "\n",
       "    .dataframe thead th {\n",
       "        text-align: right;\n",
       "    }\n",
       "</style>\n",
       "<table border=\"1\" class=\"dataframe\">\n",
       "  <thead>\n",
       "    <tr style=\"text-align: right;\">\n",
       "      <th></th>\n",
       "      <th>Linear_density [kg/m]</th>\n",
       "      <th>1/Linear_density</th>\n",
       "    </tr>\n",
       "  </thead>\n",
       "  <tbody>\n",
       "    <tr>\n",
       "      <th>Low_E</th>\n",
       "      <td>0.006790</td>\n",
       "      <td>147.275405</td>\n",
       "    </tr>\n",
       "    <tr>\n",
       "      <th>A</th>\n",
       "      <td>0.004466</td>\n",
       "      <td>223.914017</td>\n",
       "    </tr>\n",
       "    <tr>\n",
       "      <th>D</th>\n",
       "      <td>0.002333</td>\n",
       "      <td>428.632662</td>\n",
       "    </tr>\n",
       "    <tr>\n",
       "      <th>G</th>\n",
       "      <td>0.001140</td>\n",
       "      <td>877.192982</td>\n",
       "    </tr>\n",
       "    <tr>\n",
       "      <th>B</th>\n",
       "      <td>0.000708</td>\n",
       "      <td>1412.429379</td>\n",
       "    </tr>\n",
       "    <tr>\n",
       "      <th>High_E</th>\n",
       "      <td>0.000401</td>\n",
       "      <td>2493.765586</td>\n",
       "    </tr>\n",
       "  </tbody>\n",
       "</table>\n",
       "</div>"
      ],
      "text/plain": [
       "        Linear_density [kg/m]  1/Linear_density\n",
       "Low_E                0.006790        147.275405\n",
       "A                    0.004466        223.914017\n",
       "D                    0.002333        428.632662\n",
       "G                    0.001140        877.192982\n",
       "B                    0.000708       1412.429379\n",
       "High_E               0.000401       2493.765586"
      ]
     },
     "execution_count": 4,
     "metadata": {},
     "output_type": "execute_result"
    }
   ],
   "source": [
    "linear_density = pd.DataFrame(ld)\n",
    "linear_density.index = strings\n",
    "linear_density = linear_density.rename(columns = {0 : \"Linear_density [kg/m]\"})\n",
    "linear_density[\"1/Linear_density\"] = 1/linear_density[\"Linear_density [kg/m]\"] \n",
    "linear_density"
   ]
  },
  {
   "cell_type": "markdown",
   "metadata": {},
   "source": [
    "## First trial"
   ]
  },
  {
   "cell_type": "code",
   "execution_count": 5,
   "metadata": {
    "scrolled": true
   },
   "outputs": [
    {
     "data": {
      "text/html": [
       "<div>\n",
       "<style scoped>\n",
       "    .dataframe tbody tr th:only-of-type {\n",
       "        vertical-align: middle;\n",
       "    }\n",
       "\n",
       "    .dataframe tbody tr th {\n",
       "        vertical-align: top;\n",
       "    }\n",
       "\n",
       "    .dataframe thead th {\n",
       "        text-align: right;\n",
       "    }\n",
       "</style>\n",
       "<table border=\"1\" class=\"dataframe\">\n",
       "  <thead>\n",
       "    <tr style=\"text-align: right;\">\n",
       "      <th></th>\n",
       "      <th>fundamental_freq</th>\n",
       "      <th>snd_harmonic</th>\n",
       "      <th>trd_harmonic</th>\n",
       "    </tr>\n",
       "  </thead>\n",
       "  <tbody>\n",
       "    <tr>\n",
       "      <th>Low_E</th>\n",
       "      <td>82.45</td>\n",
       "      <td>167.90</td>\n",
       "      <td>248.35</td>\n",
       "    </tr>\n",
       "    <tr>\n",
       "      <th>A</th>\n",
       "      <td>111.23</td>\n",
       "      <td>225.46</td>\n",
       "      <td>336.69</td>\n",
       "    </tr>\n",
       "    <tr>\n",
       "      <th>D</th>\n",
       "      <td>145.64</td>\n",
       "      <td>294.28</td>\n",
       "      <td>437.92</td>\n",
       "    </tr>\n",
       "    <tr>\n",
       "      <th>G</th>\n",
       "      <td>196.48</td>\n",
       "      <td>393.96</td>\n",
       "      <td>591.44</td>\n",
       "    </tr>\n",
       "    <tr>\n",
       "      <th>B</th>\n",
       "      <td>246.58</td>\n",
       "      <td>496.16</td>\n",
       "      <td>741.74</td>\n",
       "    </tr>\n",
       "    <tr>\n",
       "      <th>High_E</th>\n",
       "      <td>330.25</td>\n",
       "      <td>661.50</td>\n",
       "      <td>993.75</td>\n",
       "    </tr>\n",
       "  </tbody>\n",
       "</table>\n",
       "</div>"
      ],
      "text/plain": [
       "        fundamental_freq  snd_harmonic  trd_harmonic\n",
       "Low_E              82.45        167.90        248.35\n",
       "A                 111.23        225.46        336.69\n",
       "D                 145.64        294.28        437.92\n",
       "G                 196.48        393.96        591.44\n",
       "B                 246.58        496.16        741.74\n",
       "High_E            330.25        661.50        993.75"
      ]
     },
     "execution_count": 5,
     "metadata": {},
     "output_type": "execute_result"
    }
   ],
   "source": [
    "df = pd.read_excel(\"data.xlsx\", sheet_name=0, header=None, engine='openpyxl')\n",
    "df.columns = harmonics\n",
    "df.index = strings\n",
    "df"
   ]
  },
  {
   "cell_type": "markdown",
   "metadata": {},
   "source": [
    "### `fundamental frequency`"
   ]
  },
  {
   "cell_type": "code",
   "execution_count": 6,
   "metadata": {
    "scrolled": true
   },
   "outputs": [
    {
     "data": {
      "image/png": "[encoded data removed]",
      "text/plain": [
       "<Figure size 432x288 with 1 Axes>"
      ]
     },
     "metadata": {
      "needs_background": "light"
     },
     "output_type": "display_data"
    }
   ],
   "source": [
    "notes = df.index\n",
    "fundamental_freq = df.fundamental_freq\n",
    "snd_harmonic = df.snd_harmonic\n",
    "trd_harmonic = df.trd_harmonic\n",
    "plt.plot(fundamental_freq, notes, marker = 'o')\n",
    "plt.savefig('1.png')"
   ]
  },
  {
   "cell_type": "markdown",
   "metadata": {},
   "source": [
    "### `second harmonic`"
   ]
  },
  {
   "cell_type": "code",
   "execution_count": 7,
   "metadata": {},
   "outputs": [
    {
     "data": {
      "image/png": "[encoded data removed]",
      "text/plain": [
       "<Figure size 432x288 with 1 Axes>"
      ]
     },
     "metadata": {
      "needs_background": "light"
     },
     "output_type": "display_data"
    }
   ],
   "source": [
    "plt.plot(snd_harmonic, notes, marker='o')\n",
    "plt.savefig('2.png')"
   ]
  },
  {
   "cell_type": "markdown",
   "metadata": {},
   "source": [
    "### `third harmonic`"
   ]
  },
  {
   "cell_type": "code",
   "execution_count": 8,
   "metadata": {
    "scrolled": true
   },
   "outputs": [
    {
     "data": {
      "image/png": "[encoded data removed]",
      "text/plain": [
       "<Figure size 432x288 with 1 Axes>"
      ]
     },
     "metadata": {
      "needs_background": "light"
     },
     "output_type": "display_data"
    }
   ],
   "source": [
    "plt.plot(trd_harmonic, notes, marker = 'o')\n",
    "plt.savefig('3.png')"
   ]
  },
  {
   "cell_type": "code",
   "execution_count": 9,
   "metadata": {
    "scrolled": true
   },
   "outputs": [
    {
     "data": {
      "text/html": [
       "<div>\n",
       "<style scoped>\n",
       "    .dataframe tbody tr th:only-of-type {\n",
       "        vertical-align: middle;\n",
       "    }\n",
       "\n",
       "    .dataframe tbody tr th {\n",
       "        vertical-align: top;\n",
       "    }\n",
       "\n",
       "    .dataframe thead th {\n",
       "        text-align: right;\n",
       "    }\n",
       "</style>\n",
       "<table border=\"1\" class=\"dataframe\">\n",
       "  <thead>\n",
       "    <tr style=\"text-align: right;\">\n",
       "      <th></th>\n",
       "      <th>fundamental_freq</th>\n",
       "      <th>snd_harmonic</th>\n",
       "      <th>trd_harmonic</th>\n",
       "      <th>velocity_ff</th>\n",
       "      <th>velocity_sh</th>\n",
       "      <th>velocity_th</th>\n",
       "      <th>velocityff_squared</th>\n",
       "      <th>velocitysh_squared</th>\n",
       "      <th>velocityth_squared</th>\n",
       "      <th>linear_density_reciprocal</th>\n",
       "      <th>tension_ff</th>\n",
       "      <th>tension_sh</th>\n",
       "      <th>tension_th</th>\n",
       "    </tr>\n",
       "  </thead>\n",
       "  <tbody>\n",
       "    <tr>\n",
       "      <th>Low_E</th>\n",
       "      <td>82.45</td>\n",
       "      <td>167.90</td>\n",
       "      <td>248.35</td>\n",
       "      <td>106.805730</td>\n",
       "      <td>108.748830</td>\n",
       "      <td>107.237530</td>\n",
       "      <td>11407.463961</td>\n",
       "      <td>11826.308026</td>\n",
       "      <td>11499.887841</td>\n",
       "      <td>147.275405</td>\n",
       "      <td>77.456680</td>\n",
       "      <td>80.300631</td>\n",
       "      <td>78.084238</td>\n",
       "    </tr>\n",
       "    <tr>\n",
       "      <th>A</th>\n",
       "      <td>111.23</td>\n",
       "      <td>225.46</td>\n",
       "      <td>336.69</td>\n",
       "      <td>144.087342</td>\n",
       "      <td>146.030442</td>\n",
       "      <td>145.382742</td>\n",
       "      <td>20761.162125</td>\n",
       "      <td>21324.889991</td>\n",
       "      <td>21136.141671</td>\n",
       "      <td>223.914017</td>\n",
       "      <td>92.719350</td>\n",
       "      <td>95.236959</td>\n",
       "      <td>94.394009</td>\n",
       "    </tr>\n",
       "    <tr>\n",
       "      <th>D</th>\n",
       "      <td>145.64</td>\n",
       "      <td>294.28</td>\n",
       "      <td>437.92</td>\n",
       "      <td>188.662056</td>\n",
       "      <td>190.605156</td>\n",
       "      <td>189.093856</td>\n",
       "      <td>35593.371374</td>\n",
       "      <td>36330.325494</td>\n",
       "      <td>35756.486377</td>\n",
       "      <td>428.632662</td>\n",
       "      <td>83.039335</td>\n",
       "      <td>84.758649</td>\n",
       "      <td>83.419883</td>\n",
       "    </tr>\n",
       "    <tr>\n",
       "      <th>G</th>\n",
       "      <td>196.48</td>\n",
       "      <td>393.96</td>\n",
       "      <td>591.44</td>\n",
       "      <td>254.520192</td>\n",
       "      <td>255.167892</td>\n",
       "      <td>255.383792</td>\n",
       "      <td>64780.528136</td>\n",
       "      <td>65110.653108</td>\n",
       "      <td>65220.881216</td>\n",
       "      <td>877.192982</td>\n",
       "      <td>73.849802</td>\n",
       "      <td>74.226145</td>\n",
       "      <td>74.351805</td>\n",
       "    </tr>\n",
       "    <tr>\n",
       "      <th>B</th>\n",
       "      <td>246.58</td>\n",
       "      <td>496.16</td>\n",
       "      <td>741.74</td>\n",
       "      <td>319.419732</td>\n",
       "      <td>321.362832</td>\n",
       "      <td>320.283332</td>\n",
       "      <td>102028.965191</td>\n",
       "      <td>103274.069791</td>\n",
       "      <td>102581.412757</td>\n",
       "      <td>1412.429379</td>\n",
       "      <td>72.236507</td>\n",
       "      <td>73.118041</td>\n",
       "      <td>72.627640</td>\n",
       "    </tr>\n",
       "    <tr>\n",
       "      <th>High_E</th>\n",
       "      <td>330.25</td>\n",
       "      <td>661.50</td>\n",
       "      <td>993.75</td>\n",
       "      <td>427.805850</td>\n",
       "      <td>428.453550</td>\n",
       "      <td>429.101250</td>\n",
       "      <td>183017.845294</td>\n",
       "      <td>183572.444508</td>\n",
       "      <td>184127.882752</td>\n",
       "      <td>2493.765586</td>\n",
       "      <td>73.390156</td>\n",
       "      <td>73.612550</td>\n",
       "      <td>73.835281</td>\n",
       "    </tr>\n",
       "  </tbody>\n",
       "</table>\n",
       "</div>"
      ],
      "text/plain": [
       "        fundamental_freq  snd_harmonic  trd_harmonic  velocity_ff  \\\n",
       "Low_E              82.45        167.90        248.35   106.805730   \n",
       "A                 111.23        225.46        336.69   144.087342   \n",
       "D                 145.64        294.28        437.92   188.662056   \n",
       "G                 196.48        393.96        591.44   254.520192   \n",
       "B                 246.58        496.16        741.74   319.419732   \n",
       "High_E            330.25        661.50        993.75   427.805850   \n",
       "\n",
       "        velocity_sh  velocity_th  velocityff_squared  velocitysh_squared  \\\n",
       "Low_E    108.748830   107.237530        11407.463961        11826.308026   \n",
       "A        146.030442   145.382742        20761.162125        21324.889991   \n",
       "D        190.605156   189.093856        35593.371374        36330.325494   \n",
       "G        255.167892   255.383792        64780.528136        65110.653108   \n",
       "B        321.362832   320.283332       102028.965191       103274.069791   \n",
       "High_E   428.453550   429.101250       183017.845294       183572.444508   \n",
       "\n",
       "        velocityth_squared  linear_density_reciprocal  tension_ff  tension_sh  \\\n",
       "Low_E         11499.887841                 147.275405   77.456680   80.300631   \n",
       "A             21136.141671                 223.914017   92.719350   95.236959   \n",
       "D             35756.486377                 428.632662   83.039335   84.758649   \n",
       "G             65220.881216                 877.192982   73.849802   74.226145   \n",
       "B            102581.412757                1412.429379   72.236507   73.118041   \n",
       "High_E       184127.882752                2493.765586   73.390156   73.612550   \n",
       "\n",
       "        tension_th  \n",
       "Low_E    78.084238  \n",
       "A        94.394009  \n",
       "D        83.419883  \n",
       "G        74.351805  \n",
       "B        72.627640  \n",
       "High_E   73.835281  "
      ]
     },
     "execution_count": 9,
     "metadata": {},
     "output_type": "execute_result"
    }
   ],
   "source": [
    "df[\"velocity_ff\"] = v(fundamental_freq ,fund_wl)\n",
    "df[\"velocity_sh\"] = v(snd_harmonic, sh_wl)\n",
    "df[\"velocity_th\"] = v(trd_harmonic, th_wl)\n",
    "df[\"velocityff_squared\"] = np.square(df[\"velocity_ff\"])\n",
    "df[\"velocitysh_squared\"] = np.square(df[\"velocity_sh\"])\n",
    "df[\"velocityth_squared\"] = np.square(df[\"velocity_th\"])\n",
    "df[\"linear_density_reciprocal\"] = linear_density[\"1/Linear_density\"]\n",
    "df[\"tension_ff\"] = df[\"velocityff_squared\"]/linear_density[\"1/Linear_density\"]\n",
    "df[\"tension_sh\"] = df[\"velocitysh_squared\"]/linear_density[\"1/Linear_density\"]\n",
    "df[\"tension_th\"] = df[\"velocityth_squared\"]/linear_density[\"1/Linear_density\"]\n",
    "df"
   ]
  },
  {
   "cell_type": "code",
   "execution_count": 10,
   "metadata": {},
   "outputs": [],
   "source": [
    "x = linear_density[\"1/Linear_density\"]\n",
    "y1 = df[\"velocityff_squared\"]\n",
    "y2 = df[\"velocitysh_squared\"]\n",
    "y3 = df[\"velocityth_squared\"]\n",
    "\n",
    "def f(x, a):\n",
    "    return a * x\n",
    "\n",
    "#y1\n",
    "popt, _ = curve_fit(f, x, y1)\n",
    "a = popt\n",
    "x_line = np.arange(min(x), max(x), 1)\n",
    "y_line = f(x_line, a)\n",
    "\n",
    "#y2\n",
    "popt1, _1 = curve_fit(f, x, y2)\n",
    "a1 = popt1\n",
    "x_line1 = np.arange(min(x), max(x), 1)\n",
    "y_line1 = f(x_line1, a1)\n",
    "\n",
    "#y3\n",
    "popt2, _2 = curve_fit(f, x, y3)\n",
    "a2 = popt2\n",
    "x_line2 = np.arange(min(x), max(x), 1)\n",
    "y_line2 = f(x_line2, a2)\n"
   ]
  },
  {
   "cell_type": "code",
   "execution_count": 11,
   "metadata": {
    "scrolled": false
   },
   "outputs": [
    {
     "name": "stdout",
     "output_type": "stream",
     "text": [
      "y1 = 73.48566 * x -> Fundamental Frequency\n",
      "y2 = 73.91158 * x -> Second Harmonic\n",
      "y3 = 73.92968 * x -> Third Harmonic\n"
     ]
    },
    {
     "data": {
      "image/png": "[encoded data removed]",
      "text/plain": [
       "<Figure size 1008x360 with 1 Axes>"
      ]
     },
     "metadata": {
      "needs_background": "light"
     },
     "output_type": "display_data"
    }
   ],
   "source": [
    "plt.figure(figsize=(14,5))\n",
    "plt.plot(x, y1, color = 'r', label='Fundamental Frequency', marker = 'o', alpha=0.75)\n",
    "plt.plot(x, y2, color = 'b', label='Second Harmonic', marker = 'v', alpha=0.75)\n",
    "plt.plot(x, y3, color = 'y', label='Third Harmonic', marker = 's', alpha=0.75)\n",
    "plt.plot(x_line, y_line, '--', color='r',alpha=0.45)\n",
    "plt.plot(x_line1, y_line1, '--', color='b',alpha=0.45)\n",
    "plt.plot(x_line2, y_line2, '--', color='y',alpha=0.45)\n",
    "plt.xlabel(\"Reciprocal of linear density $[\\mu^{-1}]$\")\n",
    "plt.ylabel(\"Velocity squared $[v^{2}]$\")\n",
    "plt.legend(loc='best')\n",
    "trial_1 = []\n",
    "trial_1.append(a)\n",
    "trial_1.append(a1)\n",
    "trial_1.append(a2)\n",
    "print(\"y1 = %.5f * x -> Fundamental Frequency\" % a)\n",
    "print(\"y2 = %.5f * x -> Second Harmonic\" % a1)\n",
    "print(\"y3 = %.5f * x -> Third Harmonic\" % a2)\n",
    "plt.savefig('4.png')"
   ]
  },
  {
   "cell_type": "code",
   "execution_count": 12,
   "metadata": {},
   "outputs": [
    {
     "data": {
      "image/png": "[encoded data removed]",
      "text/plain": [
       "<Figure size 1008x360 with 1 Axes>"
      ]
     },
     "metadata": {
      "needs_background": "light"
     },
     "output_type": "display_data"
    }
   ],
   "source": [
    "plt.figure(figsize=(14,5))\n",
    "plt.plot(notes, df[\"tension_ff\"], color = 'r', label='Fundamental Frequency', marker = 'o', alpha=0.75)\n",
    "plt.plot(notes, df[\"tension_sh\"], color = 'b', label='Second Harmonic', marker = 'v', alpha=0.75)\n",
    "plt.plot(notes, df[\"tension_th\"], color = 'y', label='Third Harmonic', marker = 's', alpha=0.75)\n",
    "plt.legend(loc='best')\n",
    "plt.savefig('5.png')"
   ]
  },
  {
   "cell_type": "code",
   "execution_count": 13,
   "metadata": {},
   "outputs": [],
   "source": [
    "#Creating list for string tension values\n",
    "\n",
    "# Fundamental Frequency\n",
    "Low_E_ff = []\n",
    "A_ff = np.array([])\n",
    "D_ff = np.array([])\n",
    "G_ff = np.array([])\n",
    "B_ff = np.array([])\n",
    "High_E_ff = np.array([])\n",
    "\n",
    "# Second Harmonic\n",
    "Low_E_sh = np.array([])\n",
    "A_sh = np.array([])\n",
    "D_sh = np.array([])\n",
    "G_sh = np.array([])\n",
    "B_sh = np.array([])\n",
    "High_E_sh = np.array([])\n",
    "\n",
    "# Third Harmonic\n",
    "Low_E_th = np.array([])\n",
    "A_th = np.array([])\n",
    "D_th = np.array([])\n",
    "G_th = np.array([])\n",
    "B_th = np.array([])\n",
    "High_E_th = np.array([])"
   ]
  },
  {
   "cell_type": "code",
   "execution_count": 14,
   "metadata": {},
   "outputs": [
    {
     "data": {
      "text/html": [
       "<div>\n",
       "<style scoped>\n",
       "    .dataframe tbody tr th:only-of-type {\n",
       "        vertical-align: middle;\n",
       "    }\n",
       "\n",
       "    .dataframe tbody tr th {\n",
       "        vertical-align: top;\n",
       "    }\n",
       "\n",
       "    .dataframe thead th {\n",
       "        text-align: right;\n",
       "    }\n",
       "</style>\n",
       "<table border=\"1\" class=\"dataframe\">\n",
       "  <thead>\n",
       "    <tr style=\"text-align: right;\">\n",
       "      <th></th>\n",
       "      <th>tension_ff</th>\n",
       "      <th>tension_sh</th>\n",
       "      <th>tension_th</th>\n",
       "    </tr>\n",
       "  </thead>\n",
       "  <tbody>\n",
       "    <tr>\n",
       "      <th>Low_E</th>\n",
       "      <td>77.456680</td>\n",
       "      <td>80.300631</td>\n",
       "      <td>78.084238</td>\n",
       "    </tr>\n",
       "    <tr>\n",
       "      <th>A</th>\n",
       "      <td>92.719350</td>\n",
       "      <td>95.236959</td>\n",
       "      <td>94.394009</td>\n",
       "    </tr>\n",
       "    <tr>\n",
       "      <th>D</th>\n",
       "      <td>83.039335</td>\n",
       "      <td>84.758649</td>\n",
       "      <td>83.419883</td>\n",
       "    </tr>\n",
       "    <tr>\n",
       "      <th>G</th>\n",
       "      <td>73.849802</td>\n",
       "      <td>74.226145</td>\n",
       "      <td>74.351805</td>\n",
       "    </tr>\n",
       "    <tr>\n",
       "      <th>B</th>\n",
       "      <td>72.236507</td>\n",
       "      <td>73.118041</td>\n",
       "      <td>72.627640</td>\n",
       "    </tr>\n",
       "    <tr>\n",
       "      <th>High_E</th>\n",
       "      <td>73.390156</td>\n",
       "      <td>73.612550</td>\n",
       "      <td>73.835281</td>\n",
       "    </tr>\n",
       "  </tbody>\n",
       "</table>\n",
       "</div>"
      ],
      "text/plain": [
       "        tension_ff  tension_sh  tension_th\n",
       "Low_E    77.456680   80.300631   78.084238\n",
       "A        92.719350   95.236959   94.394009\n",
       "D        83.039335   84.758649   83.419883\n",
       "G        73.849802   74.226145   74.351805\n",
       "B        72.236507   73.118041   72.627640\n",
       "High_E   73.390156   73.612550   73.835281"
      ]
     },
     "execution_count": 14,
     "metadata": {},
     "output_type": "execute_result"
    }
   ],
   "source": [
    "tension_df = pd.concat([df[\"tension_ff\"], df[\"tension_sh\"], df[\"tension_th\"]], axis = 1)\n",
    "tension_df = pd.DataFrame(tension_df)\n",
    "tension_df"
   ]
  },
  {
   "cell_type": "code",
   "execution_count": 15,
   "metadata": {},
   "outputs": [],
   "source": [
    "Low_E_ff = np.append(Low_E_ff, tension_df.iloc[0,0])\n",
    "A_ff = np.append(A_ff, tension_df.iloc[1,0])\n",
    "D_ff = np.append(D_ff, tension_df.iloc[2,0])\n",
    "G_ff = np.append(G_ff, tension_df.iloc[3,0])\n",
    "B_ff = np.append(B_ff, tension_df.iloc[4,0])\n",
    "High_E_ff = np.append(High_E_ff, tension_df.iloc[5,0])\n",
    "\n",
    "Low_E_sh = np.append(Low_E_sh, tension_df.iloc[0,1])\n",
    "A_sh = np.append(A_sh, tension_df.iloc[1,1])\n",
    "D_sh = np.append(D_sh, tension_df.iloc[2,1])\n",
    "G_sh = np.append(G_sh, tension_df.iloc[3,1])\n",
    "B_sh = np.append(B_sh, tension_df.iloc[4,1])\n",
    "High_E_sh = np.append(High_E_sh, tension_df.iloc[5,1])\n",
    "\n",
    "Low_E_th = np.append(Low_E_th, tension_df.iloc[0,2])\n",
    "A_th = np.append(A_th, tension_df.iloc[1,2])\n",
    "D_th = np.append(D_th, tension_df.iloc[2,2])\n",
    "G_th = np.append(G_th, tension_df.iloc[3,2])\n",
    "B_th = np.append(B_th, tension_df.iloc[4,2])\n",
    "High_E_th = np.append(High_E_th, tension_df.iloc[5,2])"
   ]
  },
  {
   "cell_type": "code",
   "execution_count": 16,
   "metadata": {},
   "outputs": [
    {
     "data": {
      "text/plain": [
       "array([77.45668029])"
      ]
     },
     "execution_count": 16,
     "metadata": {},
     "output_type": "execute_result"
    }
   ],
   "source": [
    "Low_E_ff"
   ]
  },
  {
   "cell_type": "code",
   "execution_count": 17,
   "metadata": {},
   "outputs": [
    {
     "data": {
      "text/html": [
       "<div>\n",
       "<style scoped>\n",
       "    .dataframe tbody tr th:only-of-type {\n",
       "        vertical-align: middle;\n",
       "    }\n",
       "\n",
       "    .dataframe tbody tr th {\n",
       "        vertical-align: top;\n",
       "    }\n",
       "\n",
       "    .dataframe thead th {\n",
       "        text-align: right;\n",
       "    }\n",
       "</style>\n",
       "<table border=\"1\" class=\"dataframe\">\n",
       "  <thead>\n",
       "    <tr style=\"text-align: right;\">\n",
       "      <th></th>\n",
       "      <th>Average</th>\n",
       "    </tr>\n",
       "  </thead>\n",
       "  <tbody>\n",
       "    <tr>\n",
       "      <th>Low_E</th>\n",
       "      <td>78.613850</td>\n",
       "    </tr>\n",
       "    <tr>\n",
       "      <th>A</th>\n",
       "      <td>94.116772</td>\n",
       "    </tr>\n",
       "    <tr>\n",
       "      <th>D</th>\n",
       "      <td>83.739289</td>\n",
       "    </tr>\n",
       "    <tr>\n",
       "      <th>G</th>\n",
       "      <td>74.142584</td>\n",
       "    </tr>\n",
       "    <tr>\n",
       "      <th>B</th>\n",
       "      <td>72.660730</td>\n",
       "    </tr>\n",
       "    <tr>\n",
       "      <th>High_E</th>\n",
       "      <td>73.612662</td>\n",
       "    </tr>\n",
       "  </tbody>\n",
       "</table>\n",
       "</div>"
      ],
      "text/plain": [
       "          Average\n",
       "Low_E   78.613850\n",
       "A       94.116772\n",
       "D       83.739289\n",
       "G       74.142584\n",
       "B       72.660730\n",
       "High_E  73.612662"
      ]
     },
     "execution_count": 17,
     "metadata": {},
     "output_type": "execute_result"
    }
   ],
   "source": [
    "tension_mean = pd.DataFrame(tension_df.mean(axis = 1))\n",
    "tension_mean = tension_mean.rename(columns = {0 : \"Average\"})\n",
    "tension_mean"
   ]
  },
  {
   "cell_type": "markdown",
   "metadata": {},
   "source": [
    "## Second trial"
   ]
  },
  {
   "cell_type": "code",
   "execution_count": 18,
   "metadata": {},
   "outputs": [
    {
     "data": {
      "text/html": [
       "<div>\n",
       "<style scoped>\n",
       "    .dataframe tbody tr th:only-of-type {\n",
       "        vertical-align: middle;\n",
       "    }\n",
       "\n",
       "    .dataframe tbody tr th {\n",
       "        vertical-align: top;\n",
       "    }\n",
       "\n",
       "    .dataframe thead th {\n",
       "        text-align: right;\n",
       "    }\n",
       "</style>\n",
       "<table border=\"1\" class=\"dataframe\">\n",
       "  <thead>\n",
       "    <tr style=\"text-align: right;\">\n",
       "      <th></th>\n",
       "      <th>fundamental_freq</th>\n",
       "      <th>snd_harmonic</th>\n",
       "      <th>trd_harmonic</th>\n",
       "    </tr>\n",
       "  </thead>\n",
       "  <tbody>\n",
       "    <tr>\n",
       "      <th>Low_E</th>\n",
       "      <td>83.24</td>\n",
       "      <td>168.48</td>\n",
       "      <td>251.72</td>\n",
       "    </tr>\n",
       "    <tr>\n",
       "      <th>A</th>\n",
       "      <td>110.26</td>\n",
       "      <td>222.52</td>\n",
       "      <td>331.78</td>\n",
       "    </tr>\n",
       "    <tr>\n",
       "      <th>D</th>\n",
       "      <td>146.24</td>\n",
       "      <td>295.48</td>\n",
       "      <td>439.72</td>\n",
       "    </tr>\n",
       "    <tr>\n",
       "      <th>G</th>\n",
       "      <td>195.95</td>\n",
       "      <td>392.90</td>\n",
       "      <td>588.85</td>\n",
       "    </tr>\n",
       "    <tr>\n",
       "      <th>B</th>\n",
       "      <td>246.25</td>\n",
       "      <td>493.50</td>\n",
       "      <td>739.75</td>\n",
       "    </tr>\n",
       "    <tr>\n",
       "      <th>High_E</th>\n",
       "      <td>331.02</td>\n",
       "      <td>664.04</td>\n",
       "      <td>995.06</td>\n",
       "    </tr>\n",
       "  </tbody>\n",
       "</table>\n",
       "</div>"
      ],
      "text/plain": [
       "        fundamental_freq  snd_harmonic  trd_harmonic\n",
       "Low_E              83.24        168.48        251.72\n",
       "A                 110.26        222.52        331.78\n",
       "D                 146.24        295.48        439.72\n",
       "G                 195.95        392.90        588.85\n",
       "B                 246.25        493.50        739.75\n",
       "High_E            331.02        664.04        995.06"
      ]
     },
     "execution_count": 18,
     "metadata": {},
     "output_type": "execute_result"
    }
   ],
   "source": [
    "df1 = pd.read_excel(\"data.xlsx\", sheet_name=1, header=None, engine='openpyxl')\n",
    "df1.columns = harmonics\n",
    "df1.index = strings\n",
    "df1"
   ]
  },
  {
   "cell_type": "markdown",
   "metadata": {},
   "source": [
    "### `fundamental frequency`"
   ]
  },
  {
   "cell_type": "code",
   "execution_count": 19,
   "metadata": {},
   "outputs": [
    {
     "data": {
      "image/png": "[encoded data removed]",
      "text/plain": [
       "<Figure size 432x288 with 1 Axes>"
      ]
     },
     "metadata": {
      "needs_background": "light"
     },
     "output_type": "display_data"
    }
   ],
   "source": [
    "notes1 = df1.index\n",
    "fundamental_freq1 = df1.fundamental_freq\n",
    "snd_harmonic1 = df1.snd_harmonic\n",
    "trd_harmonic1 = df1.trd_harmonic\n",
    "plt.plot(fundamental_freq, notes, marker='o')\n",
    "plt.savefig('6.png')"
   ]
  },
  {
   "cell_type": "markdown",
   "metadata": {},
   "source": [
    "### `second harmonic`"
   ]
  },
  {
   "cell_type": "code",
   "execution_count": 20,
   "metadata": {},
   "outputs": [
    {
     "data": {
      "image/png": "[encoded data removed]",
      "text/plain": [
       "<Figure size 432x288 with 1 Axes>"
      ]
     },
     "metadata": {
      "needs_background": "light"
     },
     "output_type": "display_data"
    }
   ],
   "source": [
    "plt.plot(snd_harmonic1, notes, marker='o')\n",
    "plt.savefig('7.png')"
   ]
  },
  {
   "cell_type": "markdown",
   "metadata": {},
   "source": [
    "### `third harmonic`"
   ]
  },
  {
   "cell_type": "code",
   "execution_count": 21,
   "metadata": {},
   "outputs": [
    {
     "data": {
      "image/png": "[encoded data removed]",
      "text/plain": [
       "<Figure size 432x288 with 1 Axes>"
      ]
     },
     "metadata": {
      "needs_background": "light"
     },
     "output_type": "display_data"
    }
   ],
   "source": [
    "plt.plot(trd_harmonic1, notes, marker='o')\n",
    "plt.savefig('8.png')"
   ]
  },
  {
   "cell_type": "code",
   "execution_count": 22,
   "metadata": {},
   "outputs": [
    {
     "data": {
      "text/html": [
       "<div>\n",
       "<style scoped>\n",
       "    .dataframe tbody tr th:only-of-type {\n",
       "        vertical-align: middle;\n",
       "    }\n",
       "\n",
       "    .dataframe tbody tr th {\n",
       "        vertical-align: top;\n",
       "    }\n",
       "\n",
       "    .dataframe thead th {\n",
       "        text-align: right;\n",
       "    }\n",
       "</style>\n",
       "<table border=\"1\" class=\"dataframe\">\n",
       "  <thead>\n",
       "    <tr style=\"text-align: right;\">\n",
       "      <th></th>\n",
       "      <th>fundamental_freq</th>\n",
       "      <th>snd_harmonic</th>\n",
       "      <th>trd_harmonic</th>\n",
       "      <th>velocity_ff</th>\n",
       "      <th>velocity_sh</th>\n",
       "      <th>velocity_th</th>\n",
       "      <th>velocityff_squared</th>\n",
       "      <th>velocitysh_squared</th>\n",
       "      <th>velocityth_squared</th>\n",
       "      <th>linear_density_reciprocal</th>\n",
       "      <th>tension_ff</th>\n",
       "      <th>tension_sh</th>\n",
       "      <th>tension_th</th>\n",
       "    </tr>\n",
       "  </thead>\n",
       "  <tbody>\n",
       "    <tr>\n",
       "      <th>Low_E</th>\n",
       "      <td>83.24</td>\n",
       "      <td>168.48</td>\n",
       "      <td>251.72</td>\n",
       "      <td>107.829096</td>\n",
       "      <td>109.124496</td>\n",
       "      <td>108.692696</td>\n",
       "      <td>11627.113944</td>\n",
       "      <td>11908.155627</td>\n",
       "      <td>11814.102164</td>\n",
       "      <td>147.275405</td>\n",
       "      <td>78.948104</td>\n",
       "      <td>80.856377</td>\n",
       "      <td>80.217754</td>\n",
       "    </tr>\n",
       "    <tr>\n",
       "      <th>A</th>\n",
       "      <td>110.26</td>\n",
       "      <td>222.52</td>\n",
       "      <td>331.78</td>\n",
       "      <td>142.830804</td>\n",
       "      <td>144.126204</td>\n",
       "      <td>143.262604</td>\n",
       "      <td>20400.638571</td>\n",
       "      <td>20772.362679</td>\n",
       "      <td>20524.173705</td>\n",
       "      <td>223.914017</td>\n",
       "      <td>91.109252</td>\n",
       "      <td>92.769372</td>\n",
       "      <td>91.660960</td>\n",
       "    </tr>\n",
       "    <tr>\n",
       "      <th>D</th>\n",
       "      <td>146.24</td>\n",
       "      <td>295.48</td>\n",
       "      <td>439.72</td>\n",
       "      <td>189.439296</td>\n",
       "      <td>191.382396</td>\n",
       "      <td>189.871096</td>\n",
       "      <td>35887.246869</td>\n",
       "      <td>36627.221499</td>\n",
       "      <td>36051.033096</td>\n",
       "      <td>428.632662</td>\n",
       "      <td>83.724947</td>\n",
       "      <td>85.451308</td>\n",
       "      <td>84.107060</td>\n",
       "    </tr>\n",
       "    <tr>\n",
       "      <th>G</th>\n",
       "      <td>195.95</td>\n",
       "      <td>392.90</td>\n",
       "      <td>588.85</td>\n",
       "      <td>253.833630</td>\n",
       "      <td>254.481330</td>\n",
       "      <td>254.265430</td>\n",
       "      <td>64431.511719</td>\n",
       "      <td>64760.747319</td>\n",
       "      <td>64650.908893</td>\n",
       "      <td>877.192982</td>\n",
       "      <td>73.451923</td>\n",
       "      <td>73.827252</td>\n",
       "      <td>73.702036</td>\n",
       "    </tr>\n",
       "    <tr>\n",
       "      <th>B</th>\n",
       "      <td>246.25</td>\n",
       "      <td>493.50</td>\n",
       "      <td>739.75</td>\n",
       "      <td>318.992250</td>\n",
       "      <td>319.639950</td>\n",
       "      <td>319.424050</td>\n",
       "      <td>101756.055560</td>\n",
       "      <td>102169.697636</td>\n",
       "      <td>102031.723718</td>\n",
       "      <td>1412.429379</td>\n",
       "      <td>72.043287</td>\n",
       "      <td>72.336146</td>\n",
       "      <td>72.238460</td>\n",
       "    </tr>\n",
       "    <tr>\n",
       "      <th>High_E</th>\n",
       "      <td>331.02</td>\n",
       "      <td>664.04</td>\n",
       "      <td>995.06</td>\n",
       "      <td>428.803308</td>\n",
       "      <td>430.098708</td>\n",
       "      <td>429.666908</td>\n",
       "      <td>183872.276952</td>\n",
       "      <td>184984.898623</td>\n",
       "      <td>184613.651830</td>\n",
       "      <td>2493.765586</td>\n",
       "      <td>73.732783</td>\n",
       "      <td>74.178944</td>\n",
       "      <td>74.030074</td>\n",
       "    </tr>\n",
       "  </tbody>\n",
       "</table>\n",
       "</div>"
      ],
      "text/plain": [
       "        fundamental_freq  snd_harmonic  trd_harmonic  velocity_ff  \\\n",
       "Low_E              83.24        168.48        251.72   107.829096   \n",
       "A                 110.26        222.52        331.78   142.830804   \n",
       "D                 146.24        295.48        439.72   189.439296   \n",
       "G                 195.95        392.90        588.85   253.833630   \n",
       "B                 246.25        493.50        739.75   318.992250   \n",
       "High_E            331.02        664.04        995.06   428.803308   \n",
       "\n",
       "        velocity_sh  velocity_th  velocityff_squared  velocitysh_squared  \\\n",
       "Low_E    109.124496   108.692696        11627.113944        11908.155627   \n",
       "A        144.126204   143.262604        20400.638571        20772.362679   \n",
       "D        191.382396   189.871096        35887.246869        36627.221499   \n",
       "G        254.481330   254.265430        64431.511719        64760.747319   \n",
       "B        319.639950   319.424050       101756.055560       102169.697636   \n",
       "High_E   430.098708   429.666908       183872.276952       184984.898623   \n",
       "\n",
       "        velocityth_squared  linear_density_reciprocal  tension_ff  tension_sh  \\\n",
       "Low_E         11814.102164                 147.275405   78.948104   80.856377   \n",
       "A             20524.173705                 223.914017   91.109252   92.769372   \n",
       "D             36051.033096                 428.632662   83.724947   85.451308   \n",
       "G             64650.908893                 877.192982   73.451923   73.827252   \n",
       "B            102031.723718                1412.429379   72.043287   72.336146   \n",
       "High_E       184613.651830                2493.765586   73.732783   74.178944   \n",
       "\n",
       "        tension_th  \n",
       "Low_E    80.217754  \n",
       "A        91.660960  \n",
       "D        84.107060  \n",
       "G        73.702036  \n",
       "B        72.238460  \n",
       "High_E   74.030074  "
      ]
     },
     "execution_count": 22,
     "metadata": {},
     "output_type": "execute_result"
    }
   ],
   "source": [
    "df1[\"velocity_ff\"] = v(fundamental_freq1 ,fund_wl)\n",
    "df1[\"velocity_sh\"] = v(snd_harmonic1, sh_wl)\n",
    "df1[\"velocity_th\"] = v(trd_harmonic1, th_wl)\n",
    "df1[\"velocityff_squared\"] = np.square(df1[\"velocity_ff\"])\n",
    "df1[\"velocitysh_squared\"] = np.square(df1[\"velocity_sh\"])\n",
    "df1[\"velocityth_squared\"] = np.square(df1[\"velocity_th\"])\n",
    "df1[\"linear_density_reciprocal\"] = linear_density[\"1/Linear_density\"]\n",
    "df1[\"tension_ff\"] = df1[\"velocityff_squared\"]/linear_density[\"1/Linear_density\"]\n",
    "df1[\"tension_sh\"] = df1[\"velocitysh_squared\"]/linear_density[\"1/Linear_density\"]\n",
    "df1[\"tension_th\"] = df1[\"velocityth_squared\"]/linear_density[\"1/Linear_density\"]\n",
    "df1"
   ]
  },
  {
   "cell_type": "code",
   "execution_count": 23,
   "metadata": {},
   "outputs": [],
   "source": [
    "x = linear_density[\"1/Linear_density\"]\n",
    "y1 = df1[\"velocityff_squared\"]\n",
    "y2 = df1[\"velocitysh_squared\"]\n",
    "y3 = df1[\"velocityth_squared\"]\n",
    "\n",
    "def f(x, a):\n",
    "    return a * x\n",
    "\n",
    "#y1\n",
    "popt, _ = curve_fit(f, x, y1)\n",
    "a = popt\n",
    "x_line = np.arange(min(x), max(x), 1)\n",
    "y_line = f(x_line, a)\n",
    "\n",
    "#y2\n",
    "popt1, _1 = curve_fit(f, x, y2)\n",
    "a1 = popt1\n",
    "x_line1 = np.arange(min(x), max(x), 1)\n",
    "y_line1 = f(x_line1, a1)\n",
    "\n",
    "#y3\n",
    "popt2, _2 = curve_fit(f, x, y3)\n",
    "a2 = popt2\n",
    "x_line2 = np.arange(min(x), max(x), 1)\n",
    "y_line2 = f(x_line2, a2)\n"
   ]
  },
  {
   "cell_type": "code",
   "execution_count": 24,
   "metadata": {},
   "outputs": [
    {
     "name": "stdout",
     "output_type": "stream",
     "text": [
      "y1 = 73.64983 * x -> Fundamental Frequency\n",
      "y2 = 74.09246 * x -> First Harmonic\n",
      "y3 = 73.92649 * x -> Second Harmonic\n"
     ]
    },
    {
     "data": {
      "image/png": "[encoded data removed]",
      "text/plain": [
       "<Figure size 1008x360 with 1 Axes>"
      ]
     },
     "metadata": {
      "needs_background": "light"
     },
     "output_type": "display_data"
    }
   ],
   "source": [
    "plt.figure(figsize=(14,5))\n",
    "plt.plot(x, y1, color = 'r', label='Fundamental Frequency', marker = 'o', alpha=0.75)\n",
    "plt.plot(x, y2, color = 'b', label='First Harmonic', marker = 'v', alpha=0.75)\n",
    "plt.plot(x, y3, color = 'y', label='Second Harmonic', marker = 's', alpha=0.75)\n",
    "plt.plot(x_line, y_line, '--', color='r',alpha=0.45)\n",
    "plt.plot(x_line1, y_line1, '--', color='b',alpha=0.45)\n",
    "plt.plot(x_line2, y_line2, '--', color='y',alpha=0.45)\n",
    "plt.xlabel(\"Reciprocal of linear density $[\\mu^{-1}]$\")\n",
    "plt.ylabel(\"Velocity squared $[v^{2}]$\")\n",
    "plt.legend(loc='best')\n",
    "trial_2 = []\n",
    "trial_2.append(a)\n",
    "trial_2.append(a1)\n",
    "trial_2.append(a2)\n",
    "print(\"y1 = %.5f * x -> Fundamental Frequency\" % a)\n",
    "print(\"y2 = %.5f * x -> First Harmonic\" % a1)\n",
    "print(\"y3 = %.5f * x -> Second Harmonic\" % a2)\n",
    "plt.savefig('9.png')"
   ]
  },
  {
   "cell_type": "code",
   "execution_count": 25,
   "metadata": {},
   "outputs": [
    {
     "data": {
      "image/png": "[encoded data removed]",
      "text/plain": [
       "<Figure size 1008x360 with 1 Axes>"
      ]
     },
     "metadata": {
      "needs_background": "light"
     },
     "output_type": "display_data"
    }
   ],
   "source": [
    "plt.figure(figsize=(14,5))\n",
    "plt.plot(notes, df1[\"tension_ff\"], color = 'r', label='Fundamental Frequency', marker = 'o', alpha=0.75)\n",
    "plt.plot(notes, df1[\"tension_sh\"], color = 'b', label='Second Harmonic', marker = 'v', alpha=0.75)\n",
    "plt.plot(notes, df1[\"tension_th\"], color = 'y', label='Third Harmonic', marker = 's', alpha=0.75)\n",
    "plt.legend(loc='best')\n",
    "plt.savefig('10.png')"
   ]
  },
  {
   "cell_type": "code",
   "execution_count": 26,
   "metadata": {},
   "outputs": [
    {
     "data": {
      "text/html": [
       "<div>\n",
       "<style scoped>\n",
       "    .dataframe tbody tr th:only-of-type {\n",
       "        vertical-align: middle;\n",
       "    }\n",
       "\n",
       "    .dataframe tbody tr th {\n",
       "        vertical-align: top;\n",
       "    }\n",
       "\n",
       "    .dataframe thead th {\n",
       "        text-align: right;\n",
       "    }\n",
       "</style>\n",
       "<table border=\"1\" class=\"dataframe\">\n",
       "  <thead>\n",
       "    <tr style=\"text-align: right;\">\n",
       "      <th></th>\n",
       "      <th>tension_ff</th>\n",
       "      <th>tension_sh</th>\n",
       "      <th>tension_th</th>\n",
       "    </tr>\n",
       "  </thead>\n",
       "  <tbody>\n",
       "    <tr>\n",
       "      <th>Low_E</th>\n",
       "      <td>78.948104</td>\n",
       "      <td>80.856377</td>\n",
       "      <td>80.217754</td>\n",
       "    </tr>\n",
       "    <tr>\n",
       "      <th>A</th>\n",
       "      <td>91.109252</td>\n",
       "      <td>92.769372</td>\n",
       "      <td>91.660960</td>\n",
       "    </tr>\n",
       "    <tr>\n",
       "      <th>D</th>\n",
       "      <td>83.724947</td>\n",
       "      <td>85.451308</td>\n",
       "      <td>84.107060</td>\n",
       "    </tr>\n",
       "    <tr>\n",
       "      <th>G</th>\n",
       "      <td>73.451923</td>\n",
       "      <td>73.827252</td>\n",
       "      <td>73.702036</td>\n",
       "    </tr>\n",
       "    <tr>\n",
       "      <th>B</th>\n",
       "      <td>72.043287</td>\n",
       "      <td>72.336146</td>\n",
       "      <td>72.238460</td>\n",
       "    </tr>\n",
       "    <tr>\n",
       "      <th>High_E</th>\n",
       "      <td>73.732783</td>\n",
       "      <td>74.178944</td>\n",
       "      <td>74.030074</td>\n",
       "    </tr>\n",
       "  </tbody>\n",
       "</table>\n",
       "</div>"
      ],
      "text/plain": [
       "        tension_ff  tension_sh  tension_th\n",
       "Low_E    78.948104   80.856377   80.217754\n",
       "A        91.109252   92.769372   91.660960\n",
       "D        83.724947   85.451308   84.107060\n",
       "G        73.451923   73.827252   73.702036\n",
       "B        72.043287   72.336146   72.238460\n",
       "High_E   73.732783   74.178944   74.030074"
      ]
     },
     "execution_count": 26,
     "metadata": {},
     "output_type": "execute_result"
    }
   ],
   "source": [
    "tension_df1 = pd.concat([df1[\"tension_ff\"], df1[\"tension_sh\"], df1[\"tension_th\"]], axis = 1)\n",
    "tension_df1 = pd.DataFrame(tension_df1)\n",
    "tension_df1"
   ]
  },
  {
   "cell_type": "code",
   "execution_count": 27,
   "metadata": {},
   "outputs": [],
   "source": [
    "Low_E_ff = np.append(Low_E_ff, tension_df1.iloc[0,0])\n",
    "A_ff = np.append(A_ff, tension_df1.iloc[1,0])\n",
    "D_ff = np.append(D_ff, tension_df1.iloc[2,0])\n",
    "G_ff = np.append(G_ff, tension_df1.iloc[3,0])\n",
    "B_ff = np.append(B_ff, tension_df1.iloc[4,0])\n",
    "High_E_ff = np.append(High_E_ff, tension_df1.iloc[5,0])\n",
    "\n",
    "Low_E_sh = np.append(Low_E_sh, tension_df1.iloc[0,1])\n",
    "A_sh = np.append(A_sh, tension_df1.iloc[1,1])\n",
    "D_sh = np.append(D_sh, tension_df1.iloc[2,1])\n",
    "G_sh = np.append(G_sh, tension_df1.iloc[3,1])\n",
    "B_sh = np.append(B_sh, tension_df1.iloc[4,1])\n",
    "High_E_sh = np.append(High_E_sh, tension_df1.iloc[5,1])\n",
    "\n",
    "Low_E_th = np.append(Low_E_th, tension_df1.iloc[0,2])\n",
    "A_th = np.append(A_th, tension_df1.iloc[1,2])\n",
    "D_th = np.append(D_th, tension_df1.iloc[2,2])\n",
    "G_th = np.append(G_th, tension_df1.iloc[3,2])\n",
    "B_th = np.append(B_th, tension_df1.iloc[4,2])\n",
    "High_E_th = np.append(High_E_th, tension_df1.iloc[5,2])"
   ]
  },
  {
   "cell_type": "code",
   "execution_count": 28,
   "metadata": {},
   "outputs": [
    {
     "data": {
      "text/html": [
       "<div>\n",
       "<style scoped>\n",
       "    .dataframe tbody tr th:only-of-type {\n",
       "        vertical-align: middle;\n",
       "    }\n",
       "\n",
       "    .dataframe tbody tr th {\n",
       "        vertical-align: top;\n",
       "    }\n",
       "\n",
       "    .dataframe thead th {\n",
       "        text-align: right;\n",
       "    }\n",
       "</style>\n",
       "<table border=\"1\" class=\"dataframe\">\n",
       "  <thead>\n",
       "    <tr style=\"text-align: right;\">\n",
       "      <th></th>\n",
       "      <th>Average</th>\n",
       "    </tr>\n",
       "  </thead>\n",
       "  <tbody>\n",
       "    <tr>\n",
       "      <th>Low_E</th>\n",
       "      <td>80.007411</td>\n",
       "    </tr>\n",
       "    <tr>\n",
       "      <th>A</th>\n",
       "      <td>91.846528</td>\n",
       "    </tr>\n",
       "    <tr>\n",
       "      <th>D</th>\n",
       "      <td>84.427772</td>\n",
       "    </tr>\n",
       "    <tr>\n",
       "      <th>G</th>\n",
       "      <td>73.660404</td>\n",
       "    </tr>\n",
       "    <tr>\n",
       "      <th>B</th>\n",
       "      <td>72.205965</td>\n",
       "    </tr>\n",
       "    <tr>\n",
       "      <th>High_E</th>\n",
       "      <td>73.980601</td>\n",
       "    </tr>\n",
       "  </tbody>\n",
       "</table>\n",
       "</div>"
      ],
      "text/plain": [
       "          Average\n",
       "Low_E   80.007411\n",
       "A       91.846528\n",
       "D       84.427772\n",
       "G       73.660404\n",
       "B       72.205965\n",
       "High_E  73.980601"
      ]
     },
     "execution_count": 28,
     "metadata": {},
     "output_type": "execute_result"
    }
   ],
   "source": [
    "tension_mean1 = pd.DataFrame(tension_df1.mean(axis = 1))\n",
    "tension_mean1 = tension_mean1.rename(columns = {0 : \"Average\"})\n",
    "tension_mean1"
   ]
  },
  {
   "cell_type": "markdown",
   "metadata": {},
   "source": [
    "## Third trial"
   ]
  },
  {
   "cell_type": "code",
   "execution_count": 29,
   "metadata": {
    "scrolled": true
   },
   "outputs": [
    {
     "data": {
      "text/html": [
       "<div>\n",
       "<style scoped>\n",
       "    .dataframe tbody tr th:only-of-type {\n",
       "        vertical-align: middle;\n",
       "    }\n",
       "\n",
       "    .dataframe tbody tr th {\n",
       "        vertical-align: top;\n",
       "    }\n",
       "\n",
       "    .dataframe thead th {\n",
       "        text-align: right;\n",
       "    }\n",
       "</style>\n",
       "<table border=\"1\" class=\"dataframe\">\n",
       "  <thead>\n",
       "    <tr style=\"text-align: right;\">\n",
       "      <th></th>\n",
       "      <th>fundamental_freq</th>\n",
       "      <th>snd_harmonic</th>\n",
       "      <th>trd_harmonic</th>\n",
       "    </tr>\n",
       "  </thead>\n",
       "  <tbody>\n",
       "    <tr>\n",
       "      <th>Low_E</th>\n",
       "      <td>82.40</td>\n",
       "      <td>165.80</td>\n",
       "      <td>250.20</td>\n",
       "    </tr>\n",
       "    <tr>\n",
       "      <th>A</th>\n",
       "      <td>110.87</td>\n",
       "      <td>223.74</td>\n",
       "      <td>334.61</td>\n",
       "    </tr>\n",
       "    <tr>\n",
       "      <th>D</th>\n",
       "      <td>146.82</td>\n",
       "      <td>296.64</td>\n",
       "      <td>443.46</td>\n",
       "    </tr>\n",
       "    <tr>\n",
       "      <th>G</th>\n",
       "      <td>196.31</td>\n",
       "      <td>395.62</td>\n",
       "      <td>590.93</td>\n",
       "    </tr>\n",
       "    <tr>\n",
       "      <th>B</th>\n",
       "      <td>249.02</td>\n",
       "      <td>500.04</td>\n",
       "      <td>750.06</td>\n",
       "    </tr>\n",
       "    <tr>\n",
       "      <th>High_E</th>\n",
       "      <td>327.54</td>\n",
       "      <td>657.08</td>\n",
       "      <td>985.62</td>\n",
       "    </tr>\n",
       "  </tbody>\n",
       "</table>\n",
       "</div>"
      ],
      "text/plain": [
       "        fundamental_freq  snd_harmonic  trd_harmonic\n",
       "Low_E              82.40        165.80        250.20\n",
       "A                 110.87        223.74        334.61\n",
       "D                 146.82        296.64        443.46\n",
       "G                 196.31        395.62        590.93\n",
       "B                 249.02        500.04        750.06\n",
       "High_E            327.54        657.08        985.62"
      ]
     },
     "execution_count": 29,
     "metadata": {},
     "output_type": "execute_result"
    }
   ],
   "source": [
    "df2 = pd.read_excel(\"data.xlsx\", sheet_name=2, header=None, engine='openpyxl')\n",
    "df2.columns = harmonics\n",
    "df2.index = strings\n",
    "df2"
   ]
  },
  {
   "cell_type": "markdown",
   "metadata": {},
   "source": [
    "### `fundamental frequency`"
   ]
  },
  {
   "cell_type": "code",
   "execution_count": 30,
   "metadata": {},
   "outputs": [
    {
     "data": {
      "image/png": "[encoded data removed]",
      "text/plain": [
       "<Figure size 432x288 with 1 Axes>"
      ]
     },
     "metadata": {
      "needs_background": "light"
     },
     "output_type": "display_data"
    }
   ],
   "source": [
    "notes = df2.index\n",
    "fundamental_freq2 = df2.fundamental_freq\n",
    "snd_harmonic2 = df2.snd_harmonic\n",
    "trd_harmonic2 = df2.trd_harmonic\n",
    "plt.plot(fundamental_freq2, notes, marker='o')\n",
    "plt.savefig('11.png')"
   ]
  },
  {
   "cell_type": "markdown",
   "metadata": {},
   "source": [
    "### `second harmonic`"
   ]
  },
  {
   "cell_type": "code",
   "execution_count": 31,
   "metadata": {},
   "outputs": [
    {
     "data": {
      "image/png": "[encoded data removed]",
      "text/plain": [
       "<Figure size 432x288 with 1 Axes>"
      ]
     },
     "metadata": {
      "needs_background": "light"
     },
     "output_type": "display_data"
    }
   ],
   "source": [
    "plt.plot(snd_harmonic2, notes, marker='o')\n",
    "plt.savefig('12.png')"
   ]
  },
  {
   "cell_type": "markdown",
   "metadata": {},
   "source": [
    "### `third harmonic`"
   ]
  },
  {
   "cell_type": "code",
   "execution_count": 32,
   "metadata": {},
   "outputs": [
    {
     "data": {
      "image/png": "[encoded data removed]",
      "text/plain": [
       "<Figure size 432x288 with 1 Axes>"
      ]
     },
     "metadata": {
      "needs_background": "light"
     },
     "output_type": "display_data"
    }
   ],
   "source": [
    "plt.plot(trd_harmonic2, notes, marker='o')\n",
    "plt.savefig('13.png')"
   ]
  },
  {
   "cell_type": "code",
   "execution_count": 33,
   "metadata": {},
   "outputs": [
    {
     "data": {
      "text/html": [
       "<div>\n",
       "<style scoped>\n",
       "    .dataframe tbody tr th:only-of-type {\n",
       "        vertical-align: middle;\n",
       "    }\n",
       "\n",
       "    .dataframe tbody tr th {\n",
       "        vertical-align: top;\n",
       "    }\n",
       "\n",
       "    .dataframe thead th {\n",
       "        text-align: right;\n",
       "    }\n",
       "</style>\n",
       "<table border=\"1\" class=\"dataframe\">\n",
       "  <thead>\n",
       "    <tr style=\"text-align: right;\">\n",
       "      <th></th>\n",
       "      <th>fundamental_freq</th>\n",
       "      <th>snd_harmonic</th>\n",
       "      <th>trd_harmonic</th>\n",
       "      <th>velocity_ff</th>\n",
       "      <th>velocity_sh</th>\n",
       "      <th>velocity_th</th>\n",
       "      <th>velocityff_squared</th>\n",
       "      <th>velocitysh_squared</th>\n",
       "      <th>velocityth_squared</th>\n",
       "      <th>linear_density_reciprocal</th>\n",
       "      <th>tension_ff</th>\n",
       "      <th>tension_sh</th>\n",
       "      <th>tension_th</th>\n",
       "    </tr>\n",
       "  </thead>\n",
       "  <tbody>\n",
       "    <tr>\n",
       "      <th>Low_E</th>\n",
       "      <td>82.40</td>\n",
       "      <td>165.80</td>\n",
       "      <td>250.20</td>\n",
       "      <td>106.740960</td>\n",
       "      <td>107.388660</td>\n",
       "      <td>108.036360</td>\n",
       "      <td>11393.632542</td>\n",
       "      <td>11532.324297</td>\n",
       "      <td>11671.855082</td>\n",
       "      <td>147.275405</td>\n",
       "      <td>77.362765</td>\n",
       "      <td>78.304482</td>\n",
       "      <td>79.251896</td>\n",
       "    </tr>\n",
       "    <tr>\n",
       "      <th>A</th>\n",
       "      <td>110.87</td>\n",
       "      <td>223.74</td>\n",
       "      <td>334.61</td>\n",
       "      <td>143.620998</td>\n",
       "      <td>144.916398</td>\n",
       "      <td>144.484598</td>\n",
       "      <td>20626.991067</td>\n",
       "      <td>21000.762409</td>\n",
       "      <td>20875.799059</td>\n",
       "      <td>223.914017</td>\n",
       "      <td>92.120142</td>\n",
       "      <td>93.789405</td>\n",
       "      <td>93.231319</td>\n",
       "    </tr>\n",
       "    <tr>\n",
       "      <th>D</th>\n",
       "      <td>146.82</td>\n",
       "      <td>296.64</td>\n",
       "      <td>443.46</td>\n",
       "      <td>190.190628</td>\n",
       "      <td>192.133728</td>\n",
       "      <td>191.486028</td>\n",
       "      <td>36172.474979</td>\n",
       "      <td>36915.369435</td>\n",
       "      <td>36666.898919</td>\n",
       "      <td>428.632662</td>\n",
       "      <td>84.390384</td>\n",
       "      <td>86.123557</td>\n",
       "      <td>85.543875</td>\n",
       "    </tr>\n",
       "    <tr>\n",
       "      <th>G</th>\n",
       "      <td>196.31</td>\n",
       "      <td>395.62</td>\n",
       "      <td>590.93</td>\n",
       "      <td>254.299974</td>\n",
       "      <td>256.243074</td>\n",
       "      <td>255.163574</td>\n",
       "      <td>64668.476776</td>\n",
       "      <td>65660.512973</td>\n",
       "      <td>65108.449496</td>\n",
       "      <td>877.192982</td>\n",
       "      <td>73.722064</td>\n",
       "      <td>74.852985</td>\n",
       "      <td>74.223632</td>\n",
       "    </tr>\n",
       "    <tr>\n",
       "      <th>B</th>\n",
       "      <td>249.02</td>\n",
       "      <td>500.04</td>\n",
       "      <td>750.06</td>\n",
       "      <td>322.580508</td>\n",
       "      <td>323.875908</td>\n",
       "      <td>323.875908</td>\n",
       "      <td>104058.184142</td>\n",
       "      <td>104895.603783</td>\n",
       "      <td>104895.603783</td>\n",
       "      <td>1412.429379</td>\n",
       "      <td>73.673194</td>\n",
       "      <td>74.266087</td>\n",
       "      <td>74.266087</td>\n",
       "    </tr>\n",
       "    <tr>\n",
       "      <th>High_E</th>\n",
       "      <td>327.54</td>\n",
       "      <td>657.08</td>\n",
       "      <td>985.62</td>\n",
       "      <td>424.295316</td>\n",
       "      <td>425.590716</td>\n",
       "      <td>425.590716</td>\n",
       "      <td>180026.515180</td>\n",
       "      <td>181127.457545</td>\n",
       "      <td>181127.457545</td>\n",
       "      <td>2493.765586</td>\n",
       "      <td>72.190633</td>\n",
       "      <td>72.632110</td>\n",
       "      <td>72.632110</td>\n",
       "    </tr>\n",
       "  </tbody>\n",
       "</table>\n",
       "</div>"
      ],
      "text/plain": [
       "        fundamental_freq  snd_harmonic  trd_harmonic  velocity_ff  \\\n",
       "Low_E              82.40        165.80        250.20   106.740960   \n",
       "A                 110.87        223.74        334.61   143.620998   \n",
       "D                 146.82        296.64        443.46   190.190628   \n",
       "G                 196.31        395.62        590.93   254.299974   \n",
       "B                 249.02        500.04        750.06   322.580508   \n",
       "High_E            327.54        657.08        985.62   424.295316   \n",
       "\n",
       "        velocity_sh  velocity_th  velocityff_squared  velocitysh_squared  \\\n",
       "Low_E    107.388660   108.036360        11393.632542        11532.324297   \n",
       "A        144.916398   144.484598        20626.991067        21000.762409   \n",
       "D        192.133728   191.486028        36172.474979        36915.369435   \n",
       "G        256.243074   255.163574        64668.476776        65660.512973   \n",
       "B        323.875908   323.875908       104058.184142       104895.603783   \n",
       "High_E   425.590716   425.590716       180026.515180       181127.457545   \n",
       "\n",
       "        velocityth_squared  linear_density_reciprocal  tension_ff  tension_sh  \\\n",
       "Low_E         11671.855082                 147.275405   77.362765   78.304482   \n",
       "A             20875.799059                 223.914017   92.120142   93.789405   \n",
       "D             36666.898919                 428.632662   84.390384   86.123557   \n",
       "G             65108.449496                 877.192982   73.722064   74.852985   \n",
       "B            104895.603783                1412.429379   73.673194   74.266087   \n",
       "High_E       181127.457545                2493.765586   72.190633   72.632110   \n",
       "\n",
       "        tension_th  \n",
       "Low_E    79.251896  \n",
       "A        93.231319  \n",
       "D        85.543875  \n",
       "G        74.223632  \n",
       "B        74.266087  \n",
       "High_E   72.632110  "
      ]
     },
     "execution_count": 33,
     "metadata": {},
     "output_type": "execute_result"
    }
   ],
   "source": [
    "df2[\"velocity_ff\"] = v(fundamental_freq2 ,fund_wl)\n",
    "df2[\"velocity_sh\"] = v(snd_harmonic2, sh_wl)\n",
    "df2[\"velocity_th\"] = v(trd_harmonic2, th_wl)\n",
    "df2[\"velocityff_squared\"] = np.square(df2[\"velocity_ff\"])\n",
    "df2[\"velocitysh_squared\"] = np.square(df2[\"velocity_sh\"])\n",
    "df2[\"velocityth_squared\"] = np.square(df2[\"velocity_th\"])\n",
    "df2[\"linear_density_reciprocal\"] = linear_density[\"1/Linear_density\"]\n",
    "df2[\"tension_ff\"] = df2[\"velocityff_squared\"]/linear_density[\"1/Linear_density\"]\n",
    "df2[\"tension_sh\"] = df2[\"velocitysh_squared\"]/linear_density[\"1/Linear_density\"]\n",
    "df2[\"tension_th\"] = df2[\"velocityth_squared\"]/linear_density[\"1/Linear_density\"]\n",
    "df2"
   ]
  },
  {
   "cell_type": "code",
   "execution_count": 34,
   "metadata": {},
   "outputs": [],
   "source": [
    "x = linear_density[\"1/Linear_density\"]\n",
    "y1 = df2[\"velocityff_squared\"]\n",
    "y2 = df2[\"velocitysh_squared\"]\n",
    "y3 = df2[\"velocityth_squared\"]\n",
    "\n",
    "def f(x, a):\n",
    "    return a * x\n",
    "\n",
    "#y1\n",
    "popt, _ = curve_fit(f, x, y1)\n",
    "a = popt\n",
    "x_line = np.arange(min(x), max(x), 1)\n",
    "y_line = f(x_line, a)\n",
    "\n",
    "#y2\n",
    "popt1, _1 = curve_fit(f, x, y2)\n",
    "a1 = popt1\n",
    "x_line1 = np.arange(min(x), max(x), 1)\n",
    "y_line1 = f(x_line1, a1)\n",
    "\n",
    "#y3\n",
    "popt2, _2 = curve_fit(f, x, y3)\n",
    "a2 = popt2\n",
    "x_line2 = np.arange(min(x), max(x), 1)\n",
    "y_line2 = f(x_line2, a2)\n"
   ]
  },
  {
   "cell_type": "code",
   "execution_count": 35,
   "metadata": {},
   "outputs": [
    {
     "name": "stdout",
     "output_type": "stream",
     "text": [
      "y1 = 73.00121 * x -> Fundamental Frequency\n",
      "y2 = 73.56633 * x -> First Harmonic\n",
      "y3 = 73.50159 * x -> Second Harmonic\n"
     ]
    },
    {
     "data": {
      "image/png": "[encoded data removed]",
      "text/plain": [
       "<Figure size 1008x360 with 1 Axes>"
      ]
     },
     "metadata": {
      "needs_background": "light"
     },
     "output_type": "display_data"
    }
   ],
   "source": [
    "plt.figure(figsize=(14,5))\n",
    "plt.plot(x, y1, color = 'r', label='Fundamental Frequency', marker = 'o', alpha=0.75)\n",
    "plt.plot(x, y2, color = 'b', label='First Harmonic', marker = 'v', alpha=0.75)\n",
    "plt.plot(x, y3, color = 'y', label='Second Harmonic', marker = 's', alpha=0.75)\n",
    "plt.plot(x_line, y_line, '--', color='r',alpha=0.45)\n",
    "plt.plot(x_line1, y_line1, '--', color='b',alpha=0.45)\n",
    "plt.plot(x_line2, y_line2, '--', color='y',alpha=0.45)\n",
    "plt.xlabel(\"Reciprocal of linear density $[\\mu^{-1}]$\")\n",
    "plt.ylabel(\"Velocity squared $[v^{2}]$\")\n",
    "plt.legend(loc='best')\n",
    "trial_3 = []\n",
    "trial_3.append(a)\n",
    "trial_3.append(a1)\n",
    "trial_3.append(a2)\n",
    "print(\"y1 = %.5f * x -> Fundamental Frequency\" % a)\n",
    "print(\"y2 = %.5f * x -> First Harmonic\" % a1)\n",
    "print(\"y3 = %.5f * x -> Second Harmonic\" % a2)\n",
    "plt.savefig('14.png')"
   ]
  },
  {
   "cell_type": "code",
   "execution_count": 36,
   "metadata": {},
   "outputs": [
    {
     "data": {
      "image/png": "[encoded data removed]",
      "text/plain": [
       "<Figure size 1008x360 with 1 Axes>"
      ]
     },
     "metadata": {
      "needs_background": "light"
     },
     "output_type": "display_data"
    }
   ],
   "source": [
    "plt.figure(figsize=(14,5))\n",
    "plt.plot(notes, df2[\"tension_ff\"], color = 'r', label='Fundamental Frequency', marker = 'o', alpha=0.75)\n",
    "plt.plot(notes, df2[\"tension_sh\"], color = 'b', label='Second Harmonic', marker = 'v', alpha=0.75)\n",
    "plt.plot(notes, df2[\"tension_th\"], color = 'y', label='Third Harmonic', marker = 's', alpha=0.75)\n",
    "plt.legend(loc='best')\n",
    "plt.savefig('15.png')"
   ]
  },
  {
   "cell_type": "code",
   "execution_count": 37,
   "metadata": {},
   "outputs": [
    {
     "data": {
      "text/html": [
       "<div>\n",
       "<style scoped>\n",
       "    .dataframe tbody tr th:only-of-type {\n",
       "        vertical-align: middle;\n",
       "    }\n",
       "\n",
       "    .dataframe tbody tr th {\n",
       "        vertical-align: top;\n",
       "    }\n",
       "\n",
       "    .dataframe thead th {\n",
       "        text-align: right;\n",
       "    }\n",
       "</style>\n",
       "<table border=\"1\" class=\"dataframe\">\n",
       "  <thead>\n",
       "    <tr style=\"text-align: right;\">\n",
       "      <th></th>\n",
       "      <th>tension_ff</th>\n",
       "      <th>tension_sh</th>\n",
       "      <th>tension_th</th>\n",
       "    </tr>\n",
       "  </thead>\n",
       "  <tbody>\n",
       "    <tr>\n",
       "      <th>Low_E</th>\n",
       "      <td>77.362765</td>\n",
       "      <td>78.304482</td>\n",
       "      <td>79.251896</td>\n",
       "    </tr>\n",
       "    <tr>\n",
       "      <th>A</th>\n",
       "      <td>92.120142</td>\n",
       "      <td>93.789405</td>\n",
       "      <td>93.231319</td>\n",
       "    </tr>\n",
       "    <tr>\n",
       "      <th>D</th>\n",
       "      <td>84.390384</td>\n",
       "      <td>86.123557</td>\n",
       "      <td>85.543875</td>\n",
       "    </tr>\n",
       "    <tr>\n",
       "      <th>G</th>\n",
       "      <td>73.722064</td>\n",
       "      <td>74.852985</td>\n",
       "      <td>74.223632</td>\n",
       "    </tr>\n",
       "    <tr>\n",
       "      <th>B</th>\n",
       "      <td>73.673194</td>\n",
       "      <td>74.266087</td>\n",
       "      <td>74.266087</td>\n",
       "    </tr>\n",
       "    <tr>\n",
       "      <th>High_E</th>\n",
       "      <td>72.190633</td>\n",
       "      <td>72.632110</td>\n",
       "      <td>72.632110</td>\n",
       "    </tr>\n",
       "  </tbody>\n",
       "</table>\n",
       "</div>"
      ],
      "text/plain": [
       "        tension_ff  tension_sh  tension_th\n",
       "Low_E    77.362765   78.304482   79.251896\n",
       "A        92.120142   93.789405   93.231319\n",
       "D        84.390384   86.123557   85.543875\n",
       "G        73.722064   74.852985   74.223632\n",
       "B        73.673194   74.266087   74.266087\n",
       "High_E   72.190633   72.632110   72.632110"
      ]
     },
     "execution_count": 37,
     "metadata": {},
     "output_type": "execute_result"
    }
   ],
   "source": [
    "tension_df2 = pd.concat([df2[\"tension_ff\"], df2[\"tension_sh\"], df2[\"tension_th\"]], axis = 1)\n",
    "tension_df2 = pd.DataFrame(tension_df2)\n",
    "tension_df2"
   ]
  },
  {
   "cell_type": "code",
   "execution_count": 38,
   "metadata": {},
   "outputs": [],
   "source": [
    "Low_E_ff = np.append(Low_E_ff, tension_df2.iloc[0,0])\n",
    "A_ff = np.append(A_ff, tension_df2.iloc[1,0])\n",
    "D_ff = np.append(D_ff, tension_df2.iloc[2,0])\n",
    "G_ff = np.append(G_ff, tension_df2.iloc[3,0])\n",
    "B_ff = np.append(B_ff, tension_df2.iloc[4,0])\n",
    "High_E_ff = np.append(High_E_ff, tension_df2.iloc[5,0])\n",
    "\n",
    "Low_E_sh = np.append(Low_E_sh, tension_df2.iloc[0,1])\n",
    "A_sh = np.append(A_sh, tension_df2.iloc[1,1])\n",
    "D_sh = np.append(D_sh, tension_df2.iloc[2,1])\n",
    "G_sh = np.append(G_sh, tension_df2.iloc[3,1])\n",
    "B_sh = np.append(B_sh, tension_df2.iloc[4,1])\n",
    "High_E_sh = np.append(High_E_sh, tension_df2.iloc[5,1])\n",
    "\n",
    "Low_E_th = np.append(Low_E_th, tension_df2.iloc[0,2])\n",
    "A_th = np.append(A_th, tension_df2.iloc[1,2])\n",
    "D_th = np.append(D_th, tension_df2.iloc[2,2])\n",
    "G_th = np.append(G_th, tension_df2.iloc[3,2])\n",
    "B_th = np.append(B_th, tension_df2.iloc[4,2])\n",
    "High_E_th = np.append(High_E_th, tension_df2.iloc[5,2])"
   ]
  },
  {
   "cell_type": "code",
   "execution_count": 39,
   "metadata": {},
   "outputs": [
    {
     "data": {
      "text/html": [
       "<div>\n",
       "<style scoped>\n",
       "    .dataframe tbody tr th:only-of-type {\n",
       "        vertical-align: middle;\n",
       "    }\n",
       "\n",
       "    .dataframe tbody tr th {\n",
       "        vertical-align: top;\n",
       "    }\n",
       "\n",
       "    .dataframe thead th {\n",
       "        text-align: right;\n",
       "    }\n",
       "</style>\n",
       "<table border=\"1\" class=\"dataframe\">\n",
       "  <thead>\n",
       "    <tr style=\"text-align: right;\">\n",
       "      <th></th>\n",
       "      <th>Average</th>\n",
       "    </tr>\n",
       "  </thead>\n",
       "  <tbody>\n",
       "    <tr>\n",
       "      <th>Low_E</th>\n",
       "      <td>78.306381</td>\n",
       "    </tr>\n",
       "    <tr>\n",
       "      <th>A</th>\n",
       "      <td>93.046955</td>\n",
       "    </tr>\n",
       "    <tr>\n",
       "      <th>D</th>\n",
       "      <td>85.352605</td>\n",
       "    </tr>\n",
       "    <tr>\n",
       "      <th>G</th>\n",
       "      <td>74.266227</td>\n",
       "    </tr>\n",
       "    <tr>\n",
       "      <th>B</th>\n",
       "      <td>74.068456</td>\n",
       "    </tr>\n",
       "    <tr>\n",
       "      <th>High_E</th>\n",
       "      <td>72.484951</td>\n",
       "    </tr>\n",
       "  </tbody>\n",
       "</table>\n",
       "</div>"
      ],
      "text/plain": [
       "          Average\n",
       "Low_E   78.306381\n",
       "A       93.046955\n",
       "D       85.352605\n",
       "G       74.266227\n",
       "B       74.068456\n",
       "High_E  72.484951"
      ]
     },
     "execution_count": 39,
     "metadata": {},
     "output_type": "execute_result"
    }
   ],
   "source": [
    "tension_mean2 = pd.DataFrame(tension_df2.mean(axis = 1))\n",
    "tension_mean2 = tension_mean2.rename(columns = {0 : \"Average\"})\n",
    "tension_mean2"
   ]
  },
  {
   "cell_type": "markdown",
   "metadata": {},
   "source": [
    "## Fourth trial"
   ]
  },
  {
   "cell_type": "code",
   "execution_count": 40,
   "metadata": {},
   "outputs": [
    {
     "data": {
      "text/html": [
       "<div>\n",
       "<style scoped>\n",
       "    .dataframe tbody tr th:only-of-type {\n",
       "        vertical-align: middle;\n",
       "    }\n",
       "\n",
       "    .dataframe tbody tr th {\n",
       "        vertical-align: top;\n",
       "    }\n",
       "\n",
       "    .dataframe thead th {\n",
       "        text-align: right;\n",
       "    }\n",
       "</style>\n",
       "<table border=\"1\" class=\"dataframe\">\n",
       "  <thead>\n",
       "    <tr style=\"text-align: right;\">\n",
       "      <th></th>\n",
       "      <th>fundamental_freq</th>\n",
       "      <th>snd_harmonic</th>\n",
       "      <th>trd_harmonic</th>\n",
       "    </tr>\n",
       "  </thead>\n",
       "  <tbody>\n",
       "    <tr>\n",
       "      <th>Low_E</th>\n",
       "      <td>82.75</td>\n",
       "      <td>167.50</td>\n",
       "      <td>250.25</td>\n",
       "    </tr>\n",
       "    <tr>\n",
       "      <th>A</th>\n",
       "      <td>110.06</td>\n",
       "      <td>222.12</td>\n",
       "      <td>333.18</td>\n",
       "    </tr>\n",
       "    <tr>\n",
       "      <th>D</th>\n",
       "      <td>146.80</td>\n",
       "      <td>294.60</td>\n",
       "      <td>441.40</td>\n",
       "    </tr>\n",
       "    <tr>\n",
       "      <th>G</th>\n",
       "      <td>195.30</td>\n",
       "      <td>392.60</td>\n",
       "      <td>587.90</td>\n",
       "    </tr>\n",
       "    <tr>\n",
       "      <th>B</th>\n",
       "      <td>247.45</td>\n",
       "      <td>496.90</td>\n",
       "      <td>743.35</td>\n",
       "    </tr>\n",
       "    <tr>\n",
       "      <th>High_E</th>\n",
       "      <td>326.94</td>\n",
       "      <td>655.88</td>\n",
       "      <td>983.82</td>\n",
       "    </tr>\n",
       "  </tbody>\n",
       "</table>\n",
       "</div>"
      ],
      "text/plain": [
       "        fundamental_freq  snd_harmonic  trd_harmonic\n",
       "Low_E              82.75        167.50        250.25\n",
       "A                 110.06        222.12        333.18\n",
       "D                 146.80        294.60        441.40\n",
       "G                 195.30        392.60        587.90\n",
       "B                 247.45        496.90        743.35\n",
       "High_E            326.94        655.88        983.82"
      ]
     },
     "execution_count": 40,
     "metadata": {},
     "output_type": "execute_result"
    }
   ],
   "source": [
    "df3 = pd.read_excel(\"data.xlsx\", sheet_name=3, header=None, engine='openpyxl')\n",
    "df3.columns = harmonics\n",
    "df3.index = strings\n",
    "df3"
   ]
  },
  {
   "cell_type": "markdown",
   "metadata": {},
   "source": [
    "### `fundamental frequency`"
   ]
  },
  {
   "cell_type": "code",
   "execution_count": 41,
   "metadata": {
    "scrolled": true
   },
   "outputs": [
    {
     "data": {
      "image/png": "[encoded data removed]",
      "text/plain": [
       "<Figure size 432x288 with 1 Axes>"
      ]
     },
     "metadata": {
      "needs_background": "light"
     },
     "output_type": "display_data"
    }
   ],
   "source": [
    "notes = df3.index\n",
    "fundamental_freq3 = df3.fundamental_freq\n",
    "snd_harmonic3 = df3.snd_harmonic\n",
    "trd_harmonic3 = df3.trd_harmonic\n",
    "plt.plot(fundamental_freq3, notes, marker='o')\n",
    "plt.savefig('16.png')"
   ]
  },
  {
   "cell_type": "markdown",
   "metadata": {},
   "source": [
    "### `second harmonic`"
   ]
  },
  {
   "cell_type": "code",
   "execution_count": 42,
   "metadata": {},
   "outputs": [
    {
     "data": {
      "image/png": "[encoded data removed]",
      "text/plain": [
       "<Figure size 432x288 with 1 Axes>"
      ]
     },
     "metadata": {
      "needs_background": "light"
     },
     "output_type": "display_data"
    }
   ],
   "source": [
    "plt.plot(snd_harmonic3, notes, marker='o')\n",
    "plt.savefig('17.png')"
   ]
  },
  {
   "cell_type": "markdown",
   "metadata": {},
   "source": [
    "### `third harmonic`"
   ]
  },
  {
   "cell_type": "code",
   "execution_count": 43,
   "metadata": {
    "scrolled": true
   },
   "outputs": [
    {
     "data": {
      "image/png": "[encoded data removed]",
      "text/plain": [
       "<Figure size 432x288 with 1 Axes>"
      ]
     },
     "metadata": {
      "needs_background": "light"
     },
     "output_type": "display_data"
    }
   ],
   "source": [
    "plt.plot(trd_harmonic3, notes, marker='o')\n",
    "plt.savefig('18.png')"
   ]
  },
  {
   "cell_type": "code",
   "execution_count": 44,
   "metadata": {},
   "outputs": [
    {
     "data": {
      "text/html": [
       "<div>\n",
       "<style scoped>\n",
       "    .dataframe tbody tr th:only-of-type {\n",
       "        vertical-align: middle;\n",
       "    }\n",
       "\n",
       "    .dataframe tbody tr th {\n",
       "        vertical-align: top;\n",
       "    }\n",
       "\n",
       "    .dataframe thead th {\n",
       "        text-align: right;\n",
       "    }\n",
       "</style>\n",
       "<table border=\"1\" class=\"dataframe\">\n",
       "  <thead>\n",
       "    <tr style=\"text-align: right;\">\n",
       "      <th></th>\n",
       "      <th>fundamental_freq</th>\n",
       "      <th>snd_harmonic</th>\n",
       "      <th>trd_harmonic</th>\n",
       "      <th>velocity_ff</th>\n",
       "      <th>velocity_sh</th>\n",
       "      <th>velocity_th</th>\n",
       "      <th>velocityff_squared</th>\n",
       "      <th>velocitysh_squared</th>\n",
       "      <th>velocityth_squared</th>\n",
       "      <th>linear_density_reciprocal</th>\n",
       "      <th>tension_ff</th>\n",
       "      <th>tension_sh</th>\n",
       "      <th>tension_th</th>\n",
       "    </tr>\n",
       "  </thead>\n",
       "  <tbody>\n",
       "    <tr>\n",
       "      <th>Low_E</th>\n",
       "      <td>82.75</td>\n",
       "      <td>167.50</td>\n",
       "      <td>250.25</td>\n",
       "      <td>107.194350</td>\n",
       "      <td>108.489750</td>\n",
       "      <td>108.057950</td>\n",
       "      <td>11490.628672</td>\n",
       "      <td>11770.025855</td>\n",
       "      <td>11676.520558</td>\n",
       "      <td>147.275405</td>\n",
       "      <td>78.021369</td>\n",
       "      <td>79.918476</td>\n",
       "      <td>79.283575</td>\n",
       "    </tr>\n",
       "    <tr>\n",
       "      <th>A</th>\n",
       "      <td>110.06</td>\n",
       "      <td>222.12</td>\n",
       "      <td>333.18</td>\n",
       "      <td>142.571724</td>\n",
       "      <td>143.867124</td>\n",
       "      <td>143.867124</td>\n",
       "      <td>20326.696484</td>\n",
       "      <td>20697.749368</td>\n",
       "      <td>20697.749368</td>\n",
       "      <td>223.914017</td>\n",
       "      <td>90.779026</td>\n",
       "      <td>92.436149</td>\n",
       "      <td>92.436149</td>\n",
       "    </tr>\n",
       "    <tr>\n",
       "      <th>D</th>\n",
       "      <td>146.80</td>\n",
       "      <td>294.60</td>\n",
       "      <td>441.40</td>\n",
       "      <td>190.164720</td>\n",
       "      <td>190.812420</td>\n",
       "      <td>190.596520</td>\n",
       "      <td>36162.620733</td>\n",
       "      <td>36409.379626</td>\n",
       "      <td>36327.033436</td>\n",
       "      <td>428.632662</td>\n",
       "      <td>84.367394</td>\n",
       "      <td>84.943083</td>\n",
       "      <td>84.750969</td>\n",
       "    </tr>\n",
       "    <tr>\n",
       "      <th>G</th>\n",
       "      <td>195.30</td>\n",
       "      <td>392.60</td>\n",
       "      <td>587.90</td>\n",
       "      <td>252.991620</td>\n",
       "      <td>254.287020</td>\n",
       "      <td>253.855220</td>\n",
       "      <td>64004.759790</td>\n",
       "      <td>64661.888540</td>\n",
       "      <td>64442.472721</td>\n",
       "      <td>877.192982</td>\n",
       "      <td>72.965426</td>\n",
       "      <td>73.714553</td>\n",
       "      <td>73.464419</td>\n",
       "    </tr>\n",
       "    <tr>\n",
       "      <th>B</th>\n",
       "      <td>247.45</td>\n",
       "      <td>496.90</td>\n",
       "      <td>743.35</td>\n",
       "      <td>320.546730</td>\n",
       "      <td>321.842130</td>\n",
       "      <td>320.978530</td>\n",
       "      <td>102750.206114</td>\n",
       "      <td>103582.356643</td>\n",
       "      <td>103027.216721</td>\n",
       "      <td>1412.429379</td>\n",
       "      <td>72.747146</td>\n",
       "      <td>73.336309</td>\n",
       "      <td>72.943269</td>\n",
       "    </tr>\n",
       "    <tr>\n",
       "      <th>High_E</th>\n",
       "      <td>326.94</td>\n",
       "      <td>655.88</td>\n",
       "      <td>983.82</td>\n",
       "      <td>423.518076</td>\n",
       "      <td>424.813476</td>\n",
       "      <td>424.813476</td>\n",
       "      <td>179367.560699</td>\n",
       "      <td>180466.489391</td>\n",
       "      <td>180466.489391</td>\n",
       "      <td>2493.765586</td>\n",
       "      <td>71.926392</td>\n",
       "      <td>72.367062</td>\n",
       "      <td>72.367062</td>\n",
       "    </tr>\n",
       "  </tbody>\n",
       "</table>\n",
       "</div>"
      ],
      "text/plain": [
       "        fundamental_freq  snd_harmonic  trd_harmonic  velocity_ff  \\\n",
       "Low_E              82.75        167.50        250.25   107.194350   \n",
       "A                 110.06        222.12        333.18   142.571724   \n",
       "D                 146.80        294.60        441.40   190.164720   \n",
       "G                 195.30        392.60        587.90   252.991620   \n",
       "B                 247.45        496.90        743.35   320.546730   \n",
       "High_E            326.94        655.88        983.82   423.518076   \n",
       "\n",
       "        velocity_sh  velocity_th  velocityff_squared  velocitysh_squared  \\\n",
       "Low_E    108.489750   108.057950        11490.628672        11770.025855   \n",
       "A        143.867124   143.867124        20326.696484        20697.749368   \n",
       "D        190.812420   190.596520        36162.620733        36409.379626   \n",
       "G        254.287020   253.855220        64004.759790        64661.888540   \n",
       "B        321.842130   320.978530       102750.206114       103582.356643   \n",
       "High_E   424.813476   424.813476       179367.560699       180466.489391   \n",
       "\n",
       "        velocityth_squared  linear_density_reciprocal  tension_ff  tension_sh  \\\n",
       "Low_E         11676.520558                 147.275405   78.021369   79.918476   \n",
       "A             20697.749368                 223.914017   90.779026   92.436149   \n",
       "D             36327.033436                 428.632662   84.367394   84.943083   \n",
       "G             64442.472721                 877.192982   72.965426   73.714553   \n",
       "B            103027.216721                1412.429379   72.747146   73.336309   \n",
       "High_E       180466.489391                2493.765586   71.926392   72.367062   \n",
       "\n",
       "        tension_th  \n",
       "Low_E    79.283575  \n",
       "A        92.436149  \n",
       "D        84.750969  \n",
       "G        73.464419  \n",
       "B        72.943269  \n",
       "High_E   72.367062  "
      ]
     },
     "execution_count": 44,
     "metadata": {},
     "output_type": "execute_result"
    }
   ],
   "source": [
    "df3[\"velocity_ff\"] = v(fundamental_freq3 ,fund_wl)\n",
    "df3[\"velocity_sh\"] = v(snd_harmonic3, sh_wl)\n",
    "df3[\"velocity_th\"] = v(trd_harmonic3, th_wl)\n",
    "df3[\"velocityff_squared\"] = np.square(df3[\"velocity_ff\"])\n",
    "df3[\"velocitysh_squared\"] = np.square(df3[\"velocity_sh\"])\n",
    "df3[\"velocityth_squared\"] = np.square(df3[\"velocity_th\"])\n",
    "df3[\"linear_density_reciprocal\"] = linear_density[\"1/Linear_density\"]\n",
    "df3[\"tension_ff\"] = df3[\"velocityff_squared\"]/linear_density[\"1/Linear_density\"]\n",
    "df3[\"tension_sh\"] = df3[\"velocitysh_squared\"]/linear_density[\"1/Linear_density\"]\n",
    "df3[\"tension_th\"] = df3[\"velocityth_squared\"]/linear_density[\"1/Linear_density\"]\n",
    "df3"
   ]
  },
  {
   "cell_type": "code",
   "execution_count": 45,
   "metadata": {},
   "outputs": [],
   "source": [
    "x = linear_density[\"1/Linear_density\"]\n",
    "y1 = df3[\"velocityff_squared\"]\n",
    "y2 = df3[\"velocitysh_squared\"]\n",
    "y3 = df3[\"velocityth_squared\"]\n",
    "\n",
    "def f(x, a):\n",
    "    return a * x\n",
    "\n",
    "#y1\n",
    "popt, _ = curve_fit(f, x, y1)\n",
    "a = popt\n",
    "x_line = np.arange(min(x), max(x), 1)\n",
    "y_line = f(x_line, a)\n",
    "\n",
    "#y2\n",
    "popt1, _1 = curve_fit(f, x, y2)\n",
    "a1 = popt1\n",
    "x_line1 = np.arange(min(x), max(x), 1)\n",
    "y_line1 = f(x_line1, a1)\n",
    "\n",
    "#y3\n",
    "popt2, _2 = curve_fit(f, x, y3)\n",
    "a2 = popt2\n",
    "x_line2 = np.arange(min(x), max(x), 1)\n",
    "y_line2 = f(x_line2, a2)\n"
   ]
  },
  {
   "cell_type": "code",
   "execution_count": 46,
   "metadata": {},
   "outputs": [
    {
     "name": "stdout",
     "output_type": "stream",
     "text": [
      "y1 = 72.55418 * x -> Fundamental Frequency\n",
      "y2 = 73.06531 * x -> First Harmonic\n",
      "y3 = 72.95430 * x -> Second Harmonic\n"
     ]
    },
    {
     "data": {
      "image/png": "[encoded data removed]",
      "text/plain": [
       "<Figure size 1008x360 with 1 Axes>"
      ]
     },
     "metadata": {
      "needs_background": "light"
     },
     "output_type": "display_data"
    }
   ],
   "source": [
    "plt.figure(figsize=(14,5))\n",
    "plt.plot(x, y1, color = 'r', label='Fundamental Frequency', marker = 'o', alpha=0.75)\n",
    "plt.plot(x, y2, color = 'b', label='First Harmonic', marker = 'v', alpha=0.75)\n",
    "plt.plot(x, y3, color = 'y', label='Second Harmonic', marker = 's', alpha=0.75)\n",
    "plt.plot(x_line, y_line, '--', color='r',alpha=0.45)\n",
    "plt.plot(x_line1, y_line1, '--', color='b',alpha=0.45)\n",
    "plt.plot(x_line2, y_line2, '--', color='y',alpha=0.45)\n",
    "plt.xlabel(\"Reciprocal of linear density $[\\mu^{-1}]$\")\n",
    "plt.ylabel(\"Velocity squared $[v^{2}]$\")\n",
    "plt.legend(loc='best')\n",
    "trial_4 = []\n",
    "trial_4.append(a)\n",
    "trial_4.append(a1)\n",
    "trial_4.append(a2)\n",
    "print(\"y1 = %.5f * x -> Fundamental Frequency\" % a)\n",
    "print(\"y2 = %.5f * x -> First Harmonic\" % a1)\n",
    "print(\"y3 = %.5f * x -> Second Harmonic\" % a2)\n",
    "plt.savefig('19.png')"
   ]
  },
  {
   "cell_type": "code",
   "execution_count": 47,
   "metadata": {},
   "outputs": [
    {
     "data": {
      "image/png": "[encoded data removed]",
      "text/plain": [
       "<Figure size 1008x360 with 1 Axes>"
      ]
     },
     "metadata": {
      "needs_background": "light"
     },
     "output_type": "display_data"
    }
   ],
   "source": [
    "plt.figure(figsize=(14,5))\n",
    "plt.plot(notes, df3[\"tension_ff\"], color = 'r', label='Fundamental Frequency', marker = 'o', alpha=0.75)\n",
    "plt.plot(notes, df3[\"tension_sh\"], color = 'b', label='Second Harmonic', marker = 'v', alpha=0.75)\n",
    "plt.plot(notes, df3[\"tension_th\"], color = 'y', label='Third Harmonic', marker = 's', alpha=0.75)\n",
    "plt.legend(loc='best')\n",
    "plt.savefig('20.png')"
   ]
  },
  {
   "cell_type": "code",
   "execution_count": 48,
   "metadata": {},
   "outputs": [
    {
     "data": {
      "text/html": [
       "<div>\n",
       "<style scoped>\n",
       "    .dataframe tbody tr th:only-of-type {\n",
       "        vertical-align: middle;\n",
       "    }\n",
       "\n",
       "    .dataframe tbody tr th {\n",
       "        vertical-align: top;\n",
       "    }\n",
       "\n",
       "    .dataframe thead th {\n",
       "        text-align: right;\n",
       "    }\n",
       "</style>\n",
       "<table border=\"1\" class=\"dataframe\">\n",
       "  <thead>\n",
       "    <tr style=\"text-align: right;\">\n",
       "      <th></th>\n",
       "      <th>tension_ff</th>\n",
       "      <th>tension_sh</th>\n",
       "      <th>tension_th</th>\n",
       "    </tr>\n",
       "  </thead>\n",
       "  <tbody>\n",
       "    <tr>\n",
       "      <th>Low_E</th>\n",
       "      <td>78.021369</td>\n",
       "      <td>79.918476</td>\n",
       "      <td>79.283575</td>\n",
       "    </tr>\n",
       "    <tr>\n",
       "      <th>A</th>\n",
       "      <td>90.779026</td>\n",
       "      <td>92.436149</td>\n",
       "      <td>92.436149</td>\n",
       "    </tr>\n",
       "    <tr>\n",
       "      <th>D</th>\n",
       "      <td>84.367394</td>\n",
       "      <td>84.943083</td>\n",
       "      <td>84.750969</td>\n",
       "    </tr>\n",
       "    <tr>\n",
       "      <th>G</th>\n",
       "      <td>72.965426</td>\n",
       "      <td>73.714553</td>\n",
       "      <td>73.464419</td>\n",
       "    </tr>\n",
       "    <tr>\n",
       "      <th>B</th>\n",
       "      <td>72.747146</td>\n",
       "      <td>73.336309</td>\n",
       "      <td>72.943269</td>\n",
       "    </tr>\n",
       "    <tr>\n",
       "      <th>High_E</th>\n",
       "      <td>71.926392</td>\n",
       "      <td>72.367062</td>\n",
       "      <td>72.367062</td>\n",
       "    </tr>\n",
       "  </tbody>\n",
       "</table>\n",
       "</div>"
      ],
      "text/plain": [
       "        tension_ff  tension_sh  tension_th\n",
       "Low_E    78.021369   79.918476   79.283575\n",
       "A        90.779026   92.436149   92.436149\n",
       "D        84.367394   84.943083   84.750969\n",
       "G        72.965426   73.714553   73.464419\n",
       "B        72.747146   73.336309   72.943269\n",
       "High_E   71.926392   72.367062   72.367062"
      ]
     },
     "execution_count": 48,
     "metadata": {},
     "output_type": "execute_result"
    }
   ],
   "source": [
    "tension_df3 = pd.concat([df3[\"tension_ff\"], df3[\"tension_sh\"], df3[\"tension_th\"]], axis = 1)\n",
    "tension_df3 = pd.DataFrame(tension_df3)\n",
    "tension_df3"
   ]
  },
  {
   "cell_type": "code",
   "execution_count": 49,
   "metadata": {},
   "outputs": [],
   "source": [
    "Low_E_ff = np.append(Low_E_ff, tension_df3.iloc[0,0])\n",
    "A_ff = np.append(A_ff, tension_df3.iloc[1,0])\n",
    "D_ff = np.append(D_ff, tension_df3.iloc[2,0])\n",
    "G_ff = np.append(G_ff, tension_df3.iloc[3,0])\n",
    "B_ff = np.append(B_ff, tension_df3.iloc[4,0])\n",
    "High_E_ff = np.append(High_E_ff, tension_df3.iloc[5,0])\n",
    "\n",
    "Low_E_sh = np.append(Low_E_sh, tension_df3.iloc[0,1])\n",
    "A_sh = np.append(A_sh, tension_df3.iloc[1,1])\n",
    "D_sh = np.append(D_sh, tension_df3.iloc[2,1])\n",
    "G_sh = np.append(G_sh, tension_df3.iloc[3,1])\n",
    "B_sh = np.append(B_sh, tension_df3.iloc[4,1])\n",
    "High_E_sh = np.append(High_E_sh, tension_df3.iloc[5,1])\n",
    "\n",
    "Low_E_th = np.append(Low_E_th, tension_df3.iloc[0,2])\n",
    "A_th = np.append(A_th, tension_df3.iloc[1,2])\n",
    "D_th = np.append(D_th, tension_df3.iloc[2,2])\n",
    "G_th = np.append(G_th, tension_df3.iloc[3,2])\n",
    "B_th = np.append(B_th, tension_df3.iloc[4,2])\n",
    "High_E_th = np.append(High_E_th, tension_df3.iloc[5,2])"
   ]
  },
  {
   "cell_type": "code",
   "execution_count": 50,
   "metadata": {},
   "outputs": [
    {
     "data": {
      "text/html": [
       "<div>\n",
       "<style scoped>\n",
       "    .dataframe tbody tr th:only-of-type {\n",
       "        vertical-align: middle;\n",
       "    }\n",
       "\n",
       "    .dataframe tbody tr th {\n",
       "        vertical-align: top;\n",
       "    }\n",
       "\n",
       "    .dataframe thead th {\n",
       "        text-align: right;\n",
       "    }\n",
       "</style>\n",
       "<table border=\"1\" class=\"dataframe\">\n",
       "  <thead>\n",
       "    <tr style=\"text-align: right;\">\n",
       "      <th></th>\n",
       "      <th>Average</th>\n",
       "    </tr>\n",
       "  </thead>\n",
       "  <tbody>\n",
       "    <tr>\n",
       "      <th>Low_E</th>\n",
       "      <td>79.074473</td>\n",
       "    </tr>\n",
       "    <tr>\n",
       "      <th>A</th>\n",
       "      <td>91.883775</td>\n",
       "    </tr>\n",
       "    <tr>\n",
       "      <th>D</th>\n",
       "      <td>84.687149</td>\n",
       "    </tr>\n",
       "    <tr>\n",
       "      <th>G</th>\n",
       "      <td>73.381466</td>\n",
       "    </tr>\n",
       "    <tr>\n",
       "      <th>B</th>\n",
       "      <td>73.008908</td>\n",
       "    </tr>\n",
       "    <tr>\n",
       "      <th>High_E</th>\n",
       "      <td>72.220172</td>\n",
       "    </tr>\n",
       "  </tbody>\n",
       "</table>\n",
       "</div>"
      ],
      "text/plain": [
       "          Average\n",
       "Low_E   79.074473\n",
       "A       91.883775\n",
       "D       84.687149\n",
       "G       73.381466\n",
       "B       73.008908\n",
       "High_E  72.220172"
      ]
     },
     "execution_count": 50,
     "metadata": {},
     "output_type": "execute_result"
    }
   ],
   "source": [
    "tension_mean3 = pd.DataFrame(tension_df3.mean(axis = 1))\n",
    "tension_mean3 = tension_mean3.rename(columns = {0 : \"Average\"})\n",
    "tension_mean3"
   ]
  },
  {
   "cell_type": "markdown",
   "metadata": {},
   "source": [
    "## Fifth trial"
   ]
  },
  {
   "cell_type": "code",
   "execution_count": 51,
   "metadata": {},
   "outputs": [
    {
     "data": {
      "text/html": [
       "<div>\n",
       "<style scoped>\n",
       "    .dataframe tbody tr th:only-of-type {\n",
       "        vertical-align: middle;\n",
       "    }\n",
       "\n",
       "    .dataframe tbody tr th {\n",
       "        vertical-align: top;\n",
       "    }\n",
       "\n",
       "    .dataframe thead th {\n",
       "        text-align: right;\n",
       "    }\n",
       "</style>\n",
       "<table border=\"1\" class=\"dataframe\">\n",
       "  <thead>\n",
       "    <tr style=\"text-align: right;\">\n",
       "      <th></th>\n",
       "      <th>fundamental_freq</th>\n",
       "      <th>snd_harmonic</th>\n",
       "      <th>trd_harmonic</th>\n",
       "    </tr>\n",
       "  </thead>\n",
       "  <tbody>\n",
       "    <tr>\n",
       "      <th>Low_E</th>\n",
       "      <td>82.40</td>\n",
       "      <td>166.80</td>\n",
       "      <td>248.20</td>\n",
       "    </tr>\n",
       "    <tr>\n",
       "      <th>A</th>\n",
       "      <td>110.02</td>\n",
       "      <td>221.04</td>\n",
       "      <td>333.06</td>\n",
       "    </tr>\n",
       "    <tr>\n",
       "      <th>D</th>\n",
       "      <td>146.21</td>\n",
       "      <td>295.42</td>\n",
       "      <td>441.63</td>\n",
       "    </tr>\n",
       "    <tr>\n",
       "      <th>G</th>\n",
       "      <td>196.32</td>\n",
       "      <td>393.64</td>\n",
       "      <td>591.96</td>\n",
       "    </tr>\n",
       "    <tr>\n",
       "      <th>B</th>\n",
       "      <td>247.40</td>\n",
       "      <td>496.80</td>\n",
       "      <td>744.20</td>\n",
       "    </tr>\n",
       "    <tr>\n",
       "      <th>High_E</th>\n",
       "      <td>329.63</td>\n",
       "      <td>660.26</td>\n",
       "      <td>989.89</td>\n",
       "    </tr>\n",
       "  </tbody>\n",
       "</table>\n",
       "</div>"
      ],
      "text/plain": [
       "        fundamental_freq  snd_harmonic  trd_harmonic\n",
       "Low_E              82.40        166.80        248.20\n",
       "A                 110.02        221.04        333.06\n",
       "D                 146.21        295.42        441.63\n",
       "G                 196.32        393.64        591.96\n",
       "B                 247.40        496.80        744.20\n",
       "High_E            329.63        660.26        989.89"
      ]
     },
     "execution_count": 51,
     "metadata": {},
     "output_type": "execute_result"
    }
   ],
   "source": [
    "df4 = pd.read_excel(\"data.xlsx\", sheet_name=4, header=None, engine='openpyxl')\n",
    "df4.columns = harmonics\n",
    "df4.index = strings\n",
    "df4"
   ]
  },
  {
   "cell_type": "markdown",
   "metadata": {},
   "source": [
    "### `fundamental frequency`"
   ]
  },
  {
   "cell_type": "code",
   "execution_count": 52,
   "metadata": {},
   "outputs": [
    {
     "data": {
      "image/png": "[encoded data removed]",
      "text/plain": [
       "<Figure size 432x288 with 1 Axes>"
      ]
     },
     "metadata": {
      "needs_background": "light"
     },
     "output_type": "display_data"
    }
   ],
   "source": [
    "notes = df4.index\n",
    "fundamental_freq4 = df4.fundamental_freq\n",
    "snd_harmonic4 = df4.snd_harmonic\n",
    "trd_harmonic4 = df4.trd_harmonic\n",
    "plt.plot(fundamental_freq4, notes, marker='o')\n",
    "plt.savefig('21.png')"
   ]
  },
  {
   "cell_type": "markdown",
   "metadata": {},
   "source": [
    "### `second harmonic`"
   ]
  },
  {
   "cell_type": "code",
   "execution_count": 53,
   "metadata": {},
   "outputs": [
    {
     "data": {
      "image/png": "[encoded data removed]",
      "text/plain": [
       "<Figure size 432x288 with 1 Axes>"
      ]
     },
     "metadata": {
      "needs_background": "light"
     },
     "output_type": "display_data"
    }
   ],
   "source": [
    "plt.plot(snd_harmonic4, notes, marker='o')\n",
    "plt.savefig('22.png')"
   ]
  },
  {
   "cell_type": "markdown",
   "metadata": {},
   "source": [
    "### `third harmonic`"
   ]
  },
  {
   "cell_type": "code",
   "execution_count": 54,
   "metadata": {},
   "outputs": [
    {
     "data": {
      "image/png": "[encoded data removed]",
      "text/plain": [
       "<Figure size 432x288 with 1 Axes>"
      ]
     },
     "metadata": {
      "needs_background": "light"
     },
     "output_type": "display_data"
    }
   ],
   "source": [
    "plt.plot(trd_harmonic4, notes, marker='o')\n",
    "plt.savefig('23.png')"
   ]
  },
  {
   "cell_type": "code",
   "execution_count": 55,
   "metadata": {},
   "outputs": [
    {
     "data": {
      "text/html": [
       "<div>\n",
       "<style scoped>\n",
       "    .dataframe tbody tr th:only-of-type {\n",
       "        vertical-align: middle;\n",
       "    }\n",
       "\n",
       "    .dataframe tbody tr th {\n",
       "        vertical-align: top;\n",
       "    }\n",
       "\n",
       "    .dataframe thead th {\n",
       "        text-align: right;\n",
       "    }\n",
       "</style>\n",
       "<table border=\"1\" class=\"dataframe\">\n",
       "  <thead>\n",
       "    <tr style=\"text-align: right;\">\n",
       "      <th></th>\n",
       "      <th>fundamental_freq</th>\n",
       "      <th>snd_harmonic</th>\n",
       "      <th>trd_harmonic</th>\n",
       "      <th>velocity_ff</th>\n",
       "      <th>velocity_sh</th>\n",
       "      <th>velocity_th</th>\n",
       "      <th>velocityff_squared</th>\n",
       "      <th>velocitysh_squared</th>\n",
       "      <th>velocityth_squared</th>\n",
       "      <th>linear_density_reciprocal</th>\n",
       "      <th>tension_ff</th>\n",
       "      <th>tension_sh</th>\n",
       "      <th>tension_th</th>\n",
       "    </tr>\n",
       "  </thead>\n",
       "  <tbody>\n",
       "    <tr>\n",
       "      <th>Low_E</th>\n",
       "      <td>82.40</td>\n",
       "      <td>166.80</td>\n",
       "      <td>248.20</td>\n",
       "      <td>106.740960</td>\n",
       "      <td>108.036360</td>\n",
       "      <td>107.172760</td>\n",
       "      <td>11393.632542</td>\n",
       "      <td>11671.855082</td>\n",
       "      <td>11486.000486</td>\n",
       "      <td>147.275405</td>\n",
       "      <td>77.362765</td>\n",
       "      <td>79.251896</td>\n",
       "      <td>77.989943</td>\n",
       "    </tr>\n",
       "    <tr>\n",
       "      <th>A</th>\n",
       "      <td>110.02</td>\n",
       "      <td>221.04</td>\n",
       "      <td>333.06</td>\n",
       "      <td>142.519908</td>\n",
       "      <td>143.167608</td>\n",
       "      <td>143.815308</td>\n",
       "      <td>20311.924176</td>\n",
       "      <td>20496.963980</td>\n",
       "      <td>20682.842815</td>\n",
       "      <td>223.914017</td>\n",
       "      <td>90.713053</td>\n",
       "      <td>91.539441</td>\n",
       "      <td>92.369576</td>\n",
       "    </tr>\n",
       "    <tr>\n",
       "      <th>D</th>\n",
       "      <td>146.21</td>\n",
       "      <td>295.42</td>\n",
       "      <td>441.63</td>\n",
       "      <td>189.400434</td>\n",
       "      <td>191.343534</td>\n",
       "      <td>190.695834</td>\n",
       "      <td>35872.524399</td>\n",
       "      <td>36612.348004</td>\n",
       "      <td>36364.901105</td>\n",
       "      <td>428.632662</td>\n",
       "      <td>83.690599</td>\n",
       "      <td>85.416608</td>\n",
       "      <td>84.839314</td>\n",
       "    </tr>\n",
       "    <tr>\n",
       "      <th>G</th>\n",
       "      <td>196.32</td>\n",
       "      <td>393.64</td>\n",
       "      <td>591.96</td>\n",
       "      <td>254.312928</td>\n",
       "      <td>254.960628</td>\n",
       "      <td>255.608328</td>\n",
       "      <td>64675.065348</td>\n",
       "      <td>65004.921830</td>\n",
       "      <td>65335.617343</td>\n",
       "      <td>877.192982</td>\n",
       "      <td>73.729574</td>\n",
       "      <td>74.105611</td>\n",
       "      <td>74.482604</td>\n",
       "    </tr>\n",
       "    <tr>\n",
       "      <th>B</th>\n",
       "      <td>247.40</td>\n",
       "      <td>496.80</td>\n",
       "      <td>744.20</td>\n",
       "      <td>320.481960</td>\n",
       "      <td>321.777360</td>\n",
       "      <td>321.345560</td>\n",
       "      <td>102708.686685</td>\n",
       "      <td>103540.669409</td>\n",
       "      <td>103262.968932</td>\n",
       "      <td>1412.429379</td>\n",
       "      <td>72.717750</td>\n",
       "      <td>73.306794</td>\n",
       "      <td>73.110182</td>\n",
       "    </tr>\n",
       "    <tr>\n",
       "      <th>High_E</th>\n",
       "      <td>329.63</td>\n",
       "      <td>660.26</td>\n",
       "      <td>989.89</td>\n",
       "      <td>427.002702</td>\n",
       "      <td>427.650402</td>\n",
       "      <td>427.434502</td>\n",
       "      <td>182331.307515</td>\n",
       "      <td>182884.866331</td>\n",
       "      <td>182700.253500</td>\n",
       "      <td>2493.765586</td>\n",
       "      <td>73.114854</td>\n",
       "      <td>73.336831</td>\n",
       "      <td>73.262802</td>\n",
       "    </tr>\n",
       "  </tbody>\n",
       "</table>\n",
       "</div>"
      ],
      "text/plain": [
       "        fundamental_freq  snd_harmonic  trd_harmonic  velocity_ff  \\\n",
       "Low_E              82.40        166.80        248.20   106.740960   \n",
       "A                 110.02        221.04        333.06   142.519908   \n",
       "D                 146.21        295.42        441.63   189.400434   \n",
       "G                 196.32        393.64        591.96   254.312928   \n",
       "B                 247.40        496.80        744.20   320.481960   \n",
       "High_E            329.63        660.26        989.89   427.002702   \n",
       "\n",
       "        velocity_sh  velocity_th  velocityff_squared  velocitysh_squared  \\\n",
       "Low_E    108.036360   107.172760        11393.632542        11671.855082   \n",
       "A        143.167608   143.815308        20311.924176        20496.963980   \n",
       "D        191.343534   190.695834        35872.524399        36612.348004   \n",
       "G        254.960628   255.608328        64675.065348        65004.921830   \n",
       "B        321.777360   321.345560       102708.686685       103540.669409   \n",
       "High_E   427.650402   427.434502       182331.307515       182884.866331   \n",
       "\n",
       "        velocityth_squared  linear_density_reciprocal  tension_ff  tension_sh  \\\n",
       "Low_E         11486.000486                 147.275405   77.362765   79.251896   \n",
       "A             20682.842815                 223.914017   90.713053   91.539441   \n",
       "D             36364.901105                 428.632662   83.690599   85.416608   \n",
       "G             65335.617343                 877.192982   73.729574   74.105611   \n",
       "B            103262.968932                1412.429379   72.717750   73.306794   \n",
       "High_E       182700.253500                2493.765586   73.114854   73.336831   \n",
       "\n",
       "        tension_th  \n",
       "Low_E    77.989943  \n",
       "A        92.369576  \n",
       "D        84.839314  \n",
       "G        74.482604  \n",
       "B        73.110182  \n",
       "High_E   73.262802  "
      ]
     },
     "execution_count": 55,
     "metadata": {},
     "output_type": "execute_result"
    }
   ],
   "source": [
    "df4[\"velocity_ff\"] = v(fundamental_freq4 ,fund_wl)\n",
    "df4[\"velocity_sh\"] = v(snd_harmonic4, sh_wl)\n",
    "df4[\"velocity_th\"] = v(trd_harmonic4, th_wl)\n",
    "df4[\"velocityff_squared\"] = np.square(df4[\"velocity_ff\"])\n",
    "df4[\"velocitysh_squared\"] = np.square(df4[\"velocity_sh\"])\n",
    "df4[\"velocityth_squared\"] = np.square(df4[\"velocity_th\"])\n",
    "df4[\"linear_density_reciprocal\"] = linear_density[\"1/Linear_density\"]\n",
    "df4[\"tension_ff\"] = df4[\"velocityff_squared\"]/linear_density[\"1/Linear_density\"]\n",
    "df4[\"tension_sh\"] = df4[\"velocitysh_squared\"]/linear_density[\"1/Linear_density\"]\n",
    "df4[\"tension_th\"] = df4[\"velocityth_squared\"]/linear_density[\"1/Linear_density\"]\n",
    "df4"
   ]
  },
  {
   "cell_type": "code",
   "execution_count": 56,
   "metadata": {},
   "outputs": [],
   "source": [
    "x = linear_density[\"1/Linear_density\"]\n",
    "y1 = df4[\"velocityff_squared\"]\n",
    "y2 = df4[\"velocitysh_squared\"]\n",
    "y3 = df4[\"velocityth_squared\"]\n",
    "\n",
    "def f(x, a):\n",
    "    return a * x\n",
    "\n",
    "#y1\n",
    "popt, _ = curve_fit(f, x, y1)\n",
    "a = popt\n",
    "x_line = np.arange(min(x), max(x), 1)\n",
    "y_line = f(x_line, a)\n",
    "\n",
    "#y2\n",
    "popt1, _1 = curve_fit(f, x, y2)\n",
    "a1 = popt1\n",
    "x_line1 = np.arange(min(x), max(x), 1)\n",
    "y_line1 = f(x_line1, a1)\n",
    "\n",
    "#y3\n",
    "popt2, _2 = curve_fit(f, x, y3)\n",
    "a2 = popt2\n",
    "x_line2 = np.arange(min(x), max(x), 1)\n",
    "y_line2 = f(x_line2, a2)\n"
   ]
  },
  {
   "cell_type": "code",
   "execution_count": 57,
   "metadata": {},
   "outputs": [
    {
     "name": "stdout",
     "output_type": "stream",
     "text": [
      "y1 = 73.39609 * x -> Fundamental Frequency\n",
      "y2 = 73.74726 * x -> First Harmonic\n",
      "y3 = 73.67644 * x -> Second Harmonic\n"
     ]
    },
    {
     "data": {
      "image/png": "[encoded data removed]",
      "text/plain": [
       "<Figure size 1008x360 with 1 Axes>"
      ]
     },
     "metadata": {
      "needs_background": "light"
     },
     "output_type": "display_data"
    }
   ],
   "source": [
    "plt.figure(figsize=(14,5))\n",
    "plt.plot(x, y1, color = 'r', label='Fundamental Frequency', marker = 'o', alpha=0.75)\n",
    "plt.plot(x, y2, color = 'b', label='First Harmonic', marker = 'v', alpha=0.75)\n",
    "plt.plot(x, y3, color = 'y', label='Second Harmonic', marker = 's', alpha=0.75)\n",
    "plt.plot(x_line, y_line, '--', color='r',alpha=0.45)\n",
    "plt.plot(x_line1, y_line1, '--', color='b',alpha=0.45)\n",
    "plt.plot(x_line2, y_line2, '--', color='y',alpha=0.45)\n",
    "plt.xlabel(\"Reciprocal of linear density $[\\mu^{-1}]$\")\n",
    "plt.ylabel(\"Velocity squared $[v^{2}]$\")\n",
    "plt.legend(loc='best')\n",
    "trial_5 = []\n",
    "trial_5.append(a)\n",
    "trial_5.append(a1)\n",
    "trial_5.append(a2)\n",
    "print(\"y1 = %.5f * x -> Fundamental Frequency\" % a)\n",
    "print(\"y2 = %.5f * x -> First Harmonic\" % a1)\n",
    "print(\"y3 = %.5f * x -> Second Harmonic\" % a2)\n",
    "plt.savefig('24.png')"
   ]
  },
  {
   "cell_type": "code",
   "execution_count": 58,
   "metadata": {},
   "outputs": [
    {
     "data": {
      "image/png": "[encoded data removed]",
      "text/plain": [
       "<Figure size 1008x360 with 1 Axes>"
      ]
     },
     "metadata": {
      "needs_background": "light"
     },
     "output_type": "display_data"
    }
   ],
   "source": [
    "plt.figure(figsize=(14,5))\n",
    "plt.plot(notes, df4[\"tension_ff\"], color = 'r', label='Fundamental Frequency', marker = 'o', alpha=0.75)\n",
    "plt.plot(notes, df4[\"tension_sh\"], color = 'b', label='Second Harmonic', marker = 'v', alpha=0.75)\n",
    "plt.plot(notes, df4[\"tension_th\"], color = 'y', label='Third Harmonic', marker = 's', alpha=0.75)\n",
    "plt.legend(loc='best')\n",
    "plt.savefig('25.png')"
   ]
  },
  {
   "cell_type": "code",
   "execution_count": 59,
   "metadata": {},
   "outputs": [
    {
     "data": {
      "text/html": [
       "<div>\n",
       "<style scoped>\n",
       "    .dataframe tbody tr th:only-of-type {\n",
       "        vertical-align: middle;\n",
       "    }\n",
       "\n",
       "    .dataframe tbody tr th {\n",
       "        vertical-align: top;\n",
       "    }\n",
       "\n",
       "    .dataframe thead th {\n",
       "        text-align: right;\n",
       "    }\n",
       "</style>\n",
       "<table border=\"1\" class=\"dataframe\">\n",
       "  <thead>\n",
       "    <tr style=\"text-align: right;\">\n",
       "      <th></th>\n",
       "      <th>tension_ff</th>\n",
       "      <th>tension_sh</th>\n",
       "      <th>tension_th</th>\n",
       "    </tr>\n",
       "  </thead>\n",
       "  <tbody>\n",
       "    <tr>\n",
       "      <th>Low_E</th>\n",
       "      <td>78.021369</td>\n",
       "      <td>79.251896</td>\n",
       "      <td>77.989943</td>\n",
       "    </tr>\n",
       "    <tr>\n",
       "      <th>A</th>\n",
       "      <td>90.779026</td>\n",
       "      <td>91.539441</td>\n",
       "      <td>92.369576</td>\n",
       "    </tr>\n",
       "    <tr>\n",
       "      <th>D</th>\n",
       "      <td>84.367394</td>\n",
       "      <td>85.416608</td>\n",
       "      <td>84.839314</td>\n",
       "    </tr>\n",
       "    <tr>\n",
       "      <th>G</th>\n",
       "      <td>72.965426</td>\n",
       "      <td>74.105611</td>\n",
       "      <td>74.482604</td>\n",
       "    </tr>\n",
       "    <tr>\n",
       "      <th>B</th>\n",
       "      <td>72.747146</td>\n",
       "      <td>73.306794</td>\n",
       "      <td>73.110182</td>\n",
       "    </tr>\n",
       "    <tr>\n",
       "      <th>High_E</th>\n",
       "      <td>71.926392</td>\n",
       "      <td>73.336831</td>\n",
       "      <td>73.262802</td>\n",
       "    </tr>\n",
       "  </tbody>\n",
       "</table>\n",
       "</div>"
      ],
      "text/plain": [
       "        tension_ff  tension_sh  tension_th\n",
       "Low_E    78.021369   79.251896   77.989943\n",
       "A        90.779026   91.539441   92.369576\n",
       "D        84.367394   85.416608   84.839314\n",
       "G        72.965426   74.105611   74.482604\n",
       "B        72.747146   73.306794   73.110182\n",
       "High_E   71.926392   73.336831   73.262802"
      ]
     },
     "execution_count": 59,
     "metadata": {},
     "output_type": "execute_result"
    }
   ],
   "source": [
    "tension_df4 = pd.concat([df3[\"tension_ff\"], df4[\"tension_sh\"], df4[\"tension_th\"]], axis = 1)\n",
    "tension_df4 = pd.DataFrame(tension_df4)\n",
    "tension_df4"
   ]
  },
  {
   "cell_type": "code",
   "execution_count": 60,
   "metadata": {},
   "outputs": [],
   "source": [
    "Low_E_ff = np.append(Low_E_ff, tension_df4.iloc[0,0])\n",
    "A_ff = np.append(A_ff, tension_df4.iloc[1,0])\n",
    "D_ff = np.append(D_ff, tension_df4.iloc[2,0])\n",
    "G_ff = np.append(G_ff, tension_df4.iloc[3,0])\n",
    "B_ff = np.append(B_ff, tension_df4.iloc[4,0])\n",
    "High_E_ff = np.append(High_E_ff, tension_df4.iloc[5,0])\n",
    "\n",
    "Low_E_sh = np.append(Low_E_sh, tension_df4.iloc[0,1])\n",
    "A_sh = np.append(A_sh, tension_df4.iloc[1,1])\n",
    "D_sh = np.append(D_sh, tension_df4.iloc[2,1])\n",
    "G_sh = np.append(G_sh, tension_df4.iloc[3,1])\n",
    "B_sh = np.append(B_sh, tension_df4.iloc[4,1])\n",
    "High_E_sh = np.append(High_E_sh, tension_df4.iloc[5,1])\n",
    "\n",
    "Low_E_th = np.append(Low_E_th, tension_df4.iloc[0,2])\n",
    "A_th = np.append(A_th, tension_df4.iloc[1,2])\n",
    "D_th = np.append(D_th, tension_df4.iloc[2,2])\n",
    "G_th = np.append(G_th, tension_df4.iloc[3,2])\n",
    "B_th = np.append(B_th, tension_df4.iloc[4,2])\n",
    "High_E_th = np.append(High_E_th, tension_df4.iloc[5,2])"
   ]
  },
  {
   "cell_type": "code",
   "execution_count": 61,
   "metadata": {},
   "outputs": [
    {
     "data": {
      "text/html": [
       "<div>\n",
       "<style scoped>\n",
       "    .dataframe tbody tr th:only-of-type {\n",
       "        vertical-align: middle;\n",
       "    }\n",
       "\n",
       "    .dataframe tbody tr th {\n",
       "        vertical-align: top;\n",
       "    }\n",
       "\n",
       "    .dataframe thead th {\n",
       "        text-align: right;\n",
       "    }\n",
       "</style>\n",
       "<table border=\"1\" class=\"dataframe\">\n",
       "  <thead>\n",
       "    <tr style=\"text-align: right;\">\n",
       "      <th></th>\n",
       "      <th>Average</th>\n",
       "    </tr>\n",
       "  </thead>\n",
       "  <tbody>\n",
       "    <tr>\n",
       "      <th>Low_E</th>\n",
       "      <td>78.421069</td>\n",
       "    </tr>\n",
       "    <tr>\n",
       "      <th>A</th>\n",
       "      <td>91.562681</td>\n",
       "    </tr>\n",
       "    <tr>\n",
       "      <th>D</th>\n",
       "      <td>84.874439</td>\n",
       "    </tr>\n",
       "    <tr>\n",
       "      <th>G</th>\n",
       "      <td>73.851214</td>\n",
       "    </tr>\n",
       "    <tr>\n",
       "      <th>B</th>\n",
       "      <td>73.054707</td>\n",
       "    </tr>\n",
       "    <tr>\n",
       "      <th>High_E</th>\n",
       "      <td>72.842008</td>\n",
       "    </tr>\n",
       "  </tbody>\n",
       "</table>\n",
       "</div>"
      ],
      "text/plain": [
       "          Average\n",
       "Low_E   78.421069\n",
       "A       91.562681\n",
       "D       84.874439\n",
       "G       73.851214\n",
       "B       73.054707\n",
       "High_E  72.842008"
      ]
     },
     "execution_count": 61,
     "metadata": {},
     "output_type": "execute_result"
    }
   ],
   "source": [
    "tension_mean4 = pd.DataFrame(tension_df4.mean(axis = 1))\n",
    "tension_mean4 = tension_mean4.rename(columns = {0 : \"Average\"})\n",
    "tension_mean4"
   ]
  },
  {
   "cell_type": "markdown",
   "metadata": {},
   "source": [
    "### String tension from Trials 1 to 5"
   ]
  },
  {
   "cell_type": "code",
   "execution_count": 62,
   "metadata": {},
   "outputs": [
    {
     "data": {
      "text/html": [
       "<div>\n",
       "<style scoped>\n",
       "    .dataframe tbody tr th:only-of-type {\n",
       "        vertical-align: middle;\n",
       "    }\n",
       "\n",
       "    .dataframe tbody tr th {\n",
       "        vertical-align: top;\n",
       "    }\n",
       "\n",
       "    .dataframe thead th {\n",
       "        text-align: right;\n",
       "    }\n",
       "</style>\n",
       "<table border=\"1\" class=\"dataframe\">\n",
       "  <thead>\n",
       "    <tr style=\"text-align: right;\">\n",
       "      <th></th>\n",
       "      <th>Trial 1</th>\n",
       "      <th>Trial 2</th>\n",
       "      <th>Trial 3</th>\n",
       "      <th>Trial 4</th>\n",
       "      <th>Trial 5</th>\n",
       "    </tr>\n",
       "  </thead>\n",
       "  <tbody>\n",
       "    <tr>\n",
       "      <th>Fundamental Frequency</th>\n",
       "      <td>[73.48565802855614]</td>\n",
       "      <td>[73.64982567281078]</td>\n",
       "      <td>[73.00121483167212]</td>\n",
       "      <td>[72.55417934929422]</td>\n",
       "      <td>[73.39609158142913]</td>\n",
       "    </tr>\n",
       "    <tr>\n",
       "      <th>First Harmonic</th>\n",
       "      <td>[73.9115814913959]</td>\n",
       "      <td>[74.09246360475034]</td>\n",
       "      <td>[73.56633342576455]</td>\n",
       "      <td>[73.06530975402161]</td>\n",
       "      <td>[73.74726443986042]</td>\n",
       "    </tr>\n",
       "    <tr>\n",
       "      <th>Second Harmonic</th>\n",
       "      <td>[73.92967809399195]</td>\n",
       "      <td>[73.9264874061951]</td>\n",
       "      <td>[73.50158503036579]</td>\n",
       "      <td>[72.95429659878894]</td>\n",
       "      <td>[73.67643908758416]</td>\n",
       "    </tr>\n",
       "  </tbody>\n",
       "</table>\n",
       "</div>"
      ],
      "text/plain": [
       "                                   Trial 1              Trial 2  \\\n",
       "Fundamental Frequency  [73.48565802855614]  [73.64982567281078]   \n",
       "First Harmonic          [73.9115814913959]  [74.09246360475034]   \n",
       "Second Harmonic        [73.92967809399195]   [73.9264874061951]   \n",
       "\n",
       "                                   Trial 3              Trial 4  \\\n",
       "Fundamental Frequency  [73.00121483167212]  [72.55417934929422]   \n",
       "First Harmonic         [73.56633342576455]  [73.06530975402161]   \n",
       "Second Harmonic        [73.50158503036579]  [72.95429659878894]   \n",
       "\n",
       "                                   Trial 5  \n",
       "Fundamental Frequency  [73.39609158142913]  \n",
       "First Harmonic         [73.74726443986042]  \n",
       "Second Harmonic        [73.67643908758416]  "
      ]
     },
     "execution_count": 62,
     "metadata": {},
     "output_type": "execute_result"
    }
   ],
   "source": [
    "final = pd.DataFrame({\"Trial 1\": trial_1,\n",
    "                      \"Trial 2\": trial_2,\n",
    "                      \"Trial 3\": trial_3,\n",
    "                      \"Trial 4\": trial_4,\n",
    "                      \"Trial 5\": trial_5})\n",
    "final.rename(index = {0 : \"Fundamental Frequency\", \n",
    "                      1 : \"First Harmonic\",\n",
    "                      2 : \"Second Harmonic\"}, inplace = True)\n",
    "final"
   ]
  },
  {
   "cell_type": "code",
   "execution_count": 63,
   "metadata": {},
   "outputs": [
    {
     "data": {
      "text/html": [
       "<div>\n",
       "<style scoped>\n",
       "    .dataframe tbody tr th:only-of-type {\n",
       "        vertical-align: middle;\n",
       "    }\n",
       "\n",
       "    .dataframe tbody tr th {\n",
       "        vertical-align: top;\n",
       "    }\n",
       "\n",
       "    .dataframe thead th {\n",
       "        text-align: right;\n",
       "    }\n",
       "</style>\n",
       "<table border=\"1\" class=\"dataframe\">\n",
       "  <thead>\n",
       "    <tr style=\"text-align: right;\">\n",
       "      <th></th>\n",
       "      <th>String Tension [$N$]</th>\n",
       "    </tr>\n",
       "  </thead>\n",
       "  <tbody>\n",
       "    <tr>\n",
       "      <th>Fundamental Frequency</th>\n",
       "      <td>73.217394</td>\n",
       "    </tr>\n",
       "    <tr>\n",
       "      <th>First Harmonic</th>\n",
       "      <td>73.676591</td>\n",
       "    </tr>\n",
       "    <tr>\n",
       "      <th>Second Harmonic</th>\n",
       "      <td>73.597697</td>\n",
       "    </tr>\n",
       "  </tbody>\n",
       "</table>\n",
       "</div>"
      ],
      "text/plain": [
       "                       String Tension [$N$]\n",
       "Fundamental Frequency             73.217394\n",
       "First Harmonic                    73.676591\n",
       "Second Harmonic                   73.597697"
      ]
     },
     "execution_count": 63,
     "metadata": {},
     "output_type": "execute_result"
    }
   ],
   "source": [
    "average = final.mean(axis = 1)\n",
    "average = pd.DataFrame(average)\n",
    "averave = average.rename(columns = {0 : \"String Tension [$N$]\"}, inplace = True) \n",
    "average"
   ]
  },
  {
   "cell_type": "code",
   "execution_count": 64,
   "metadata": {},
   "outputs": [
    {
     "data": {
      "image/png": "[encoded data removed]",
      "text/plain": [
       "<Figure size 1008x360 with 1 Axes>"
      ]
     },
     "metadata": {
      "needs_background": "light"
     },
     "output_type": "display_data"
    }
   ],
   "source": [
    "X = [average.iloc[0,0], average.iloc[1,0], average.iloc[2,0]]\n",
    "Y = np.linspace(1,3,3)\n",
    "plt.figure(figsize=(14,5))\n",
    "ax = sns.barplot(x= X, y = Y)\n",
    "plt.xlabel('String Tension [$N$]')\n",
    "plt.yticks([])\n",
    "ax.annotate('Fundamental Frequency',xy = (-0.2,1.05), fontsize = \"large\")\n",
    "ax.annotate('Second Harmonic',xy = (0.85,3.05), fontsize = \"large\")\n",
    "ax.annotate('Third Harmonic',xy = (1.9,2.05), fontsize = \"large\")\n",
    "plt.savefig('average-tension-per-harmonic.png')"
   ]
  },
  {
   "cell_type": "code",
   "execution_count": 65,
   "metadata": {},
   "outputs": [
    {
     "data": {
      "text/html": [
       "<div>\n",
       "<style scoped>\n",
       "    .dataframe tbody tr th:only-of-type {\n",
       "        vertical-align: middle;\n",
       "    }\n",
       "\n",
       "    .dataframe tbody tr th {\n",
       "        vertical-align: top;\n",
       "    }\n",
       "\n",
       "    .dataframe thead tr th {\n",
       "        text-align: left;\n",
       "    }\n",
       "</style>\n",
       "<table border=\"1\" class=\"dataframe\">\n",
       "  <thead>\n",
       "    <tr>\n",
       "      <th></th>\n",
       "      <th>Trial 1</th>\n",
       "      <th>Trial 2</th>\n",
       "      <th>Trial 3</th>\n",
       "      <th>Trial 4</th>\n",
       "      <th>Trial 5</th>\n",
       "    </tr>\n",
       "  </thead>\n",
       "  <tbody>\n",
       "    <tr>\n",
       "      <th>Low_E</th>\n",
       "      <td>78.613850</td>\n",
       "      <td>80.007411</td>\n",
       "      <td>78.306381</td>\n",
       "      <td>79.074473</td>\n",
       "      <td>78.421069</td>\n",
       "    </tr>\n",
       "    <tr>\n",
       "      <th>A</th>\n",
       "      <td>94.116772</td>\n",
       "      <td>91.846528</td>\n",
       "      <td>93.046955</td>\n",
       "      <td>91.883775</td>\n",
       "      <td>91.562681</td>\n",
       "    </tr>\n",
       "    <tr>\n",
       "      <th>D</th>\n",
       "      <td>83.739289</td>\n",
       "      <td>84.427772</td>\n",
       "      <td>85.352605</td>\n",
       "      <td>84.687149</td>\n",
       "      <td>84.874439</td>\n",
       "    </tr>\n",
       "    <tr>\n",
       "      <th>G</th>\n",
       "      <td>74.142584</td>\n",
       "      <td>73.660404</td>\n",
       "      <td>74.266227</td>\n",
       "      <td>73.381466</td>\n",
       "      <td>73.851214</td>\n",
       "    </tr>\n",
       "    <tr>\n",
       "      <th>B</th>\n",
       "      <td>72.660730</td>\n",
       "      <td>72.205965</td>\n",
       "      <td>74.068456</td>\n",
       "      <td>73.008908</td>\n",
       "      <td>73.054707</td>\n",
       "    </tr>\n",
       "    <tr>\n",
       "      <th>High_E</th>\n",
       "      <td>73.612662</td>\n",
       "      <td>73.980601</td>\n",
       "      <td>72.484951</td>\n",
       "      <td>72.220172</td>\n",
       "      <td>72.842008</td>\n",
       "    </tr>\n",
       "  </tbody>\n",
       "</table>\n",
       "</div>"
      ],
      "text/plain": [
       "          Trial 1    Trial 2    Trial 3    Trial 4    Trial 5\n",
       "Low_E   78.613850  80.007411  78.306381  79.074473  78.421069\n",
       "A       94.116772  91.846528  93.046955  91.883775  91.562681\n",
       "D       83.739289  84.427772  85.352605  84.687149  84.874439\n",
       "G       74.142584  73.660404  74.266227  73.381466  73.851214\n",
       "B       72.660730  72.205965  74.068456  73.008908  73.054707\n",
       "High_E  73.612662  73.980601  72.484951  72.220172  72.842008"
      ]
     },
     "execution_count": 65,
     "metadata": {},
     "output_type": "execute_result"
    }
   ],
   "source": [
    "tension_meanFinal = pd.concat([tension_mean, tension_mean1, tension_mean2, tension_mean3, tension_mean4], axis = 1)\n",
    "tension_meanFinal.columns = [np.arange(0,tension_meanFinal.shape[1])]\n",
    "tension_meanFinal.rename(columns = {0: \"Trial 1\",\n",
    "                                    1: \"Trial 2\",\n",
    "                                    2: \"Trial 3\",\n",
    "                                    3: \"Trial 4\",\n",
    "                                    4: \"Trial 5\"}, inplace = True)\n",
    "tension_meanFinal"
   ]
  },
  {
   "cell_type": "code",
   "execution_count": 66,
   "metadata": {},
   "outputs": [
    {
     "data": {
      "text/html": [
       "<div>\n",
       "<style scoped>\n",
       "    .dataframe tbody tr th:only-of-type {\n",
       "        vertical-align: middle;\n",
       "    }\n",
       "\n",
       "    .dataframe tbody tr th {\n",
       "        vertical-align: top;\n",
       "    }\n",
       "\n",
       "    .dataframe thead th {\n",
       "        text-align: right;\n",
       "    }\n",
       "</style>\n",
       "<table border=\"1\" class=\"dataframe\">\n",
       "  <thead>\n",
       "    <tr style=\"text-align: right;\">\n",
       "      <th></th>\n",
       "      <th>String Tension [$N$]</th>\n",
       "    </tr>\n",
       "  </thead>\n",
       "  <tbody>\n",
       "    <tr>\n",
       "      <th>Low_E</th>\n",
       "      <td>78.884637</td>\n",
       "    </tr>\n",
       "    <tr>\n",
       "      <th>A</th>\n",
       "      <td>92.491342</td>\n",
       "    </tr>\n",
       "    <tr>\n",
       "      <th>D</th>\n",
       "      <td>84.616251</td>\n",
       "    </tr>\n",
       "    <tr>\n",
       "      <th>G</th>\n",
       "      <td>73.860379</td>\n",
       "    </tr>\n",
       "    <tr>\n",
       "      <th>B</th>\n",
       "      <td>72.999753</td>\n",
       "    </tr>\n",
       "    <tr>\n",
       "      <th>High_E</th>\n",
       "      <td>73.028079</td>\n",
       "    </tr>\n",
       "  </tbody>\n",
       "</table>\n",
       "</div>"
      ],
      "text/plain": [
       "        String Tension [$N$]\n",
       "Low_E              78.884637\n",
       "A                  92.491342\n",
       "D                  84.616251\n",
       "G                  73.860379\n",
       "B                  72.999753\n",
       "High_E             73.028079"
      ]
     },
     "execution_count": 66,
     "metadata": {},
     "output_type": "execute_result"
    }
   ],
   "source": [
    "average_ = tension_meanFinal.mean(axis = 1)\n",
    "average_ = pd.DataFrame(average_)\n",
    "averave_ = average_.rename(columns = {0 : \"String Tension [$N$]\"}, inplace = True) \n",
    "average_"
   ]
  },
  {
   "cell_type": "code",
   "execution_count": 67,
   "metadata": {},
   "outputs": [
    {
     "data": {
      "image/png": "[encoded data removed]",
      "text/plain": [
       "<Figure size 1008x360 with 1 Axes>"
      ]
     },
     "metadata": {
      "needs_background": "light"
     },
     "output_type": "display_data"
    }
   ],
   "source": [
    "X_ = [average_.iloc[0,0], average_.iloc[1,0], average_.iloc[2,0], average_.iloc[3,0], average_.iloc[4,0], average_.iloc[5,0]]\n",
    "Y_ = np.linspace(1,3,6)\n",
    "plt.figure(figsize=(14,5))\n",
    "ax_ = sns.barplot(x= X_, y = Y_)\n",
    "plt.xlabel('String Tension [$N$]')\n",
    "plt.yticks([])\n",
    "ax_.annotate('Low E',xy = (2.9,1.05), fontsize = \"large\")\n",
    "ax_.annotate('A',xy = (4.95,1.45), fontsize = \"large\")\n",
    "ax_.annotate('D',xy = (3.95,1.85), fontsize = \"large\")\n",
    "ax_.annotate('G',xy = (2,2.25), fontsize = \"large\")\n",
    "ax_.annotate('B',xy = (-0.05,2.7), fontsize = \"large\")\n",
    "ax_.annotate('High E',xy = (0.9,3.04), fontsize = \"large\")\n",
    "plt.savefig('average-tension-per-string.png')"
   ]
  },
  {
   "cell_type": "markdown",
   "metadata": {},
   "source": [
    "## For Fundamental Frequency"
   ]
  },
  {
   "cell_type": "code",
   "execution_count": 68,
   "metadata": {},
   "outputs": [
    {
     "data": {
      "text/html": [
       "<div>\n",
       "<style scoped>\n",
       "    .dataframe tbody tr th:only-of-type {\n",
       "        vertical-align: middle;\n",
       "    }\n",
       "\n",
       "    .dataframe tbody tr th {\n",
       "        vertical-align: top;\n",
       "    }\n",
       "\n",
       "    .dataframe thead th {\n",
       "        text-align: right;\n",
       "    }\n",
       "</style>\n",
       "<table border=\"1\" class=\"dataframe\">\n",
       "  <thead>\n",
       "    <tr style=\"text-align: right;\">\n",
       "      <th></th>\n",
       "      <th>Low E</th>\n",
       "      <th>A</th>\n",
       "      <th>D</th>\n",
       "      <th>G</th>\n",
       "      <th>B</th>\n",
       "      <th>High E</th>\n",
       "    </tr>\n",
       "  </thead>\n",
       "  <tbody>\n",
       "    <tr>\n",
       "      <th>Trial 1</th>\n",
       "      <td>77.456680</td>\n",
       "      <td>92.719350</td>\n",
       "      <td>83.039335</td>\n",
       "      <td>73.849802</td>\n",
       "      <td>72.236507</td>\n",
       "      <td>73.390156</td>\n",
       "    </tr>\n",
       "    <tr>\n",
       "      <th>Trial 2</th>\n",
       "      <td>78.948104</td>\n",
       "      <td>91.109252</td>\n",
       "      <td>83.724947</td>\n",
       "      <td>73.451923</td>\n",
       "      <td>72.043287</td>\n",
       "      <td>73.732783</td>\n",
       "    </tr>\n",
       "    <tr>\n",
       "      <th>Trial 3</th>\n",
       "      <td>77.362765</td>\n",
       "      <td>92.120142</td>\n",
       "      <td>84.390384</td>\n",
       "      <td>73.722064</td>\n",
       "      <td>73.673194</td>\n",
       "      <td>72.190633</td>\n",
       "    </tr>\n",
       "    <tr>\n",
       "      <th>Trial 4</th>\n",
       "      <td>78.021369</td>\n",
       "      <td>90.779026</td>\n",
       "      <td>84.367394</td>\n",
       "      <td>72.965426</td>\n",
       "      <td>72.747146</td>\n",
       "      <td>71.926392</td>\n",
       "    </tr>\n",
       "    <tr>\n",
       "      <th>Trial 5</th>\n",
       "      <td>78.021369</td>\n",
       "      <td>90.779026</td>\n",
       "      <td>84.367394</td>\n",
       "      <td>72.965426</td>\n",
       "      <td>72.747146</td>\n",
       "      <td>71.926392</td>\n",
       "    </tr>\n",
       "  </tbody>\n",
       "</table>\n",
       "</div>"
      ],
      "text/plain": [
       "             Low E          A          D          G          B     High E\n",
       "Trial 1  77.456680  92.719350  83.039335  73.849802  72.236507  73.390156\n",
       "Trial 2  78.948104  91.109252  83.724947  73.451923  72.043287  73.732783\n",
       "Trial 3  77.362765  92.120142  84.390384  73.722064  73.673194  72.190633\n",
       "Trial 4  78.021369  90.779026  84.367394  72.965426  72.747146  71.926392\n",
       "Trial 5  78.021369  90.779026  84.367394  72.965426  72.747146  71.926392"
      ]
     },
     "execution_count": 68,
     "metadata": {},
     "output_type": "execute_result"
    }
   ],
   "source": [
    "Low_E_ff = pd.DataFrame(Low_E_ff)\n",
    "A_ff = pd.DataFrame(A_ff)\n",
    "D_ff = pd.DataFrame(D_ff)\n",
    "G_ff = pd.DataFrame(G_ff)\n",
    "B_ff = pd.DataFrame(B_ff)\n",
    "High_E_ff = pd.DataFrame(High_E_ff)\n",
    "ff_final = pd.concat([Low_E_ff, A_ff, D_ff, G_ff, B_ff, High_E_ff], axis = 1)\n",
    "ff_final.columns = np.arange(0,ff_final.shape[1])\n",
    "ff_final.index = np.arange(0,ff_final.shape[0])\n",
    "ff_final = ff_final.rename(columns = {0: \"Low E\",\n",
    "                                      1: \"A\",\n",
    "                                      2: \"D\",\n",
    "                                      3: \"G\",\n",
    "                                      4: \"B\",\n",
    "                                      5: \"High E\"},\n",
    "                           index = {0: \"Trial 1\",\n",
    "                                    1: \"Trial 2\",\n",
    "                                    2: \"Trial 3\",\n",
    "                                    3: \"Trial 4\",\n",
    "                                    4: \"Trial 5\"})\n",
    "ff_final"
   ]
  },
  {
   "cell_type": "code",
   "execution_count": 69,
   "metadata": {},
   "outputs": [
    {
     "data": {
      "text/html": [
       "<div>\n",
       "<style scoped>\n",
       "    .dataframe tbody tr th:only-of-type {\n",
       "        vertical-align: middle;\n",
       "    }\n",
       "\n",
       "    .dataframe tbody tr th {\n",
       "        vertical-align: top;\n",
       "    }\n",
       "\n",
       "    .dataframe thead th {\n",
       "        text-align: right;\n",
       "    }\n",
       "</style>\n",
       "<table border=\"1\" class=\"dataframe\">\n",
       "  <thead>\n",
       "    <tr style=\"text-align: right;\">\n",
       "      <th></th>\n",
       "      <th>Average</th>\n",
       "    </tr>\n",
       "  </thead>\n",
       "  <tbody>\n",
       "    <tr>\n",
       "      <th>Low E</th>\n",
       "      <td>77.962057</td>\n",
       "    </tr>\n",
       "    <tr>\n",
       "      <th>A</th>\n",
       "      <td>91.501359</td>\n",
       "    </tr>\n",
       "    <tr>\n",
       "      <th>D</th>\n",
       "      <td>83.977891</td>\n",
       "    </tr>\n",
       "    <tr>\n",
       "      <th>G</th>\n",
       "      <td>73.390928</td>\n",
       "    </tr>\n",
       "    <tr>\n",
       "      <th>B</th>\n",
       "      <td>72.689456</td>\n",
       "    </tr>\n",
       "    <tr>\n",
       "      <th>High E</th>\n",
       "      <td>72.633271</td>\n",
       "    </tr>\n",
       "  </tbody>\n",
       "</table>\n",
       "</div>"
      ],
      "text/plain": [
       "          Average\n",
       "Low E   77.962057\n",
       "A       91.501359\n",
       "D       83.977891\n",
       "G       73.390928\n",
       "B       72.689456\n",
       "High E  72.633271"
      ]
     },
     "execution_count": 69,
     "metadata": {},
     "output_type": "execute_result"
    }
   ],
   "source": [
    "average_ff = pd.DataFrame(ff_final.mean(axis = 0))\n",
    "average_ff = average_ff.rename(columns = {0 : \"Average\"})\n",
    "average_ff"
   ]
  },
  {
   "cell_type": "code",
   "execution_count": 70,
   "metadata": {},
   "outputs": [
    {
     "data": {
      "image/png": "[encoded data removed]",
      "text/plain": [
       "<Figure size 1008x360 with 1 Axes>"
      ]
     },
     "metadata": {
      "needs_background": "light"
     },
     "output_type": "display_data"
    }
   ],
   "source": [
    "plt.figure(figsize=(14,5))\n",
    "plt.plot(notes, average_ff, color = 'r', label='Fundamental Frequency', marker = 'o', alpha=0.75)\n",
    "plt.title(\"Fundamental Frequency\")\n",
    "plt.ylabel(\"String Tension\")\n",
    "plt.legend(loc='best')\n",
    "plt.savefig('average-tension-per-string-ff.png')"
   ]
  },
  {
   "cell_type": "markdown",
   "metadata": {},
   "source": [
    "## For Second Harmonic"
   ]
  },
  {
   "cell_type": "code",
   "execution_count": 71,
   "metadata": {},
   "outputs": [
    {
     "data": {
      "text/html": [
       "<div>\n",
       "<style scoped>\n",
       "    .dataframe tbody tr th:only-of-type {\n",
       "        vertical-align: middle;\n",
       "    }\n",
       "\n",
       "    .dataframe tbody tr th {\n",
       "        vertical-align: top;\n",
       "    }\n",
       "\n",
       "    .dataframe thead th {\n",
       "        text-align: right;\n",
       "    }\n",
       "</style>\n",
       "<table border=\"1\" class=\"dataframe\">\n",
       "  <thead>\n",
       "    <tr style=\"text-align: right;\">\n",
       "      <th></th>\n",
       "      <th>Low E</th>\n",
       "      <th>A</th>\n",
       "      <th>D</th>\n",
       "      <th>G</th>\n",
       "      <th>B</th>\n",
       "      <th>High E</th>\n",
       "    </tr>\n",
       "  </thead>\n",
       "  <tbody>\n",
       "    <tr>\n",
       "      <th>Trial 1</th>\n",
       "      <td>80.300631</td>\n",
       "      <td>95.236959</td>\n",
       "      <td>84.758649</td>\n",
       "      <td>74.226145</td>\n",
       "      <td>73.118041</td>\n",
       "      <td>73.612550</td>\n",
       "    </tr>\n",
       "    <tr>\n",
       "      <th>Trial 2</th>\n",
       "      <td>80.856377</td>\n",
       "      <td>92.769372</td>\n",
       "      <td>85.451308</td>\n",
       "      <td>73.827252</td>\n",
       "      <td>72.336146</td>\n",
       "      <td>74.178944</td>\n",
       "    </tr>\n",
       "    <tr>\n",
       "      <th>Trial 3</th>\n",
       "      <td>78.304482</td>\n",
       "      <td>93.789405</td>\n",
       "      <td>86.123557</td>\n",
       "      <td>74.852985</td>\n",
       "      <td>74.266087</td>\n",
       "      <td>72.632110</td>\n",
       "    </tr>\n",
       "    <tr>\n",
       "      <th>Trial 4</th>\n",
       "      <td>79.918476</td>\n",
       "      <td>92.436149</td>\n",
       "      <td>84.943083</td>\n",
       "      <td>73.714553</td>\n",
       "      <td>73.336309</td>\n",
       "      <td>72.367062</td>\n",
       "    </tr>\n",
       "    <tr>\n",
       "      <th>Trial 5</th>\n",
       "      <td>79.251896</td>\n",
       "      <td>91.539441</td>\n",
       "      <td>85.416608</td>\n",
       "      <td>74.105611</td>\n",
       "      <td>73.306794</td>\n",
       "      <td>73.336831</td>\n",
       "    </tr>\n",
       "  </tbody>\n",
       "</table>\n",
       "</div>"
      ],
      "text/plain": [
       "             Low E          A          D          G          B     High E\n",
       "Trial 1  80.300631  95.236959  84.758649  74.226145  73.118041  73.612550\n",
       "Trial 2  80.856377  92.769372  85.451308  73.827252  72.336146  74.178944\n",
       "Trial 3  78.304482  93.789405  86.123557  74.852985  74.266087  72.632110\n",
       "Trial 4  79.918476  92.436149  84.943083  73.714553  73.336309  72.367062\n",
       "Trial 5  79.251896  91.539441  85.416608  74.105611  73.306794  73.336831"
      ]
     },
     "execution_count": 71,
     "metadata": {},
     "output_type": "execute_result"
    }
   ],
   "source": [
    "Low_E_sh = pd.DataFrame(Low_E_sh)\n",
    "A_sh = pd.DataFrame(A_sh)\n",
    "D_sh = pd.DataFrame(D_sh)\n",
    "G_sh = pd.DataFrame(G_sh)\n",
    "B_sh = pd.DataFrame(B_sh)\n",
    "High_E_sh = pd.DataFrame(High_E_sh)\n",
    "sh_final = pd.concat([Low_E_sh, A_sh, D_sh, G_sh, B_sh, High_E_sh], axis = 1)\n",
    "sh_final.columns = np.arange(0,sh_final.shape[1])\n",
    "sh_final.index = np.arange(0,sh_final.shape[0])\n",
    "sh_final = sh_final.rename(columns = {0: \"Low E\",\n",
    "                                      1: \"A\",\n",
    "                                      2: \"D\",\n",
    "                                      3: \"G\",\n",
    "                                      4: \"B\",\n",
    "                                      5: \"High E\"},\n",
    "                           index = {0: \"Trial 1\",\n",
    "                                    1: \"Trial 2\",\n",
    "                                    2: \"Trial 3\",\n",
    "                                    3: \"Trial 4\",\n",
    "                                    4: \"Trial 5\"})\n",
    "sh_final"
   ]
  },
  {
   "cell_type": "code",
   "execution_count": 72,
   "metadata": {
    "scrolled": true
   },
   "outputs": [
    {
     "data": {
      "text/html": [
       "<div>\n",
       "<style scoped>\n",
       "    .dataframe tbody tr th:only-of-type {\n",
       "        vertical-align: middle;\n",
       "    }\n",
       "\n",
       "    .dataframe tbody tr th {\n",
       "        vertical-align: top;\n",
       "    }\n",
       "\n",
       "    .dataframe thead th {\n",
       "        text-align: right;\n",
       "    }\n",
       "</style>\n",
       "<table border=\"1\" class=\"dataframe\">\n",
       "  <thead>\n",
       "    <tr style=\"text-align: right;\">\n",
       "      <th></th>\n",
       "      <th>Average</th>\n",
       "    </tr>\n",
       "  </thead>\n",
       "  <tbody>\n",
       "    <tr>\n",
       "      <th>Low E</th>\n",
       "      <td>79.726372</td>\n",
       "    </tr>\n",
       "    <tr>\n",
       "      <th>A</th>\n",
       "      <td>93.154265</td>\n",
       "    </tr>\n",
       "    <tr>\n",
       "      <th>D</th>\n",
       "      <td>85.338641</td>\n",
       "    </tr>\n",
       "    <tr>\n",
       "      <th>G</th>\n",
       "      <td>74.145309</td>\n",
       "    </tr>\n",
       "    <tr>\n",
       "      <th>B</th>\n",
       "      <td>73.272675</td>\n",
       "    </tr>\n",
       "    <tr>\n",
       "      <th>High E</th>\n",
       "      <td>73.225500</td>\n",
       "    </tr>\n",
       "  </tbody>\n",
       "</table>\n",
       "</div>"
      ],
      "text/plain": [
       "          Average\n",
       "Low E   79.726372\n",
       "A       93.154265\n",
       "D       85.338641\n",
       "G       74.145309\n",
       "B       73.272675\n",
       "High E  73.225500"
      ]
     },
     "execution_count": 72,
     "metadata": {},
     "output_type": "execute_result"
    }
   ],
   "source": [
    "average_sh = pd.DataFrame(sh_final.mean(axis = 0))\n",
    "average_sh = average_sh.rename(columns = {0 : \"Average\"})\n",
    "average_sh"
   ]
  },
  {
   "cell_type": "code",
   "execution_count": 73,
   "metadata": {},
   "outputs": [
    {
     "data": {
      "image/png": "[encoded data removed]",
      "text/plain": [
       "<Figure size 1008x360 with 1 Axes>"
      ]
     },
     "metadata": {
      "needs_background": "light"
     },
     "output_type": "display_data"
    }
   ],
   "source": [
    "plt.figure(figsize=(14,5))\n",
    "plt.plot(notes, average_sh, color = 'r', label='Second Harmonic', marker = 'o', alpha=0.75)\n",
    "plt.title(\"Second Harmonic\")\n",
    "plt.ylabel(\"String Tension\")\n",
    "plt.legend(loc='best')\n",
    "plt.savefig('average-tension-per-string-sh.png')"
   ]
  },
  {
   "cell_type": "markdown",
   "metadata": {},
   "source": [
    "## For Third Harmonic"
   ]
  },
  {
   "cell_type": "code",
   "execution_count": 74,
   "metadata": {},
   "outputs": [
    {
     "data": {
      "text/html": [
       "<div>\n",
       "<style scoped>\n",
       "    .dataframe tbody tr th:only-of-type {\n",
       "        vertical-align: middle;\n",
       "    }\n",
       "\n",
       "    .dataframe tbody tr th {\n",
       "        vertical-align: top;\n",
       "    }\n",
       "\n",
       "    .dataframe thead th {\n",
       "        text-align: right;\n",
       "    }\n",
       "</style>\n",
       "<table border=\"1\" class=\"dataframe\">\n",
       "  <thead>\n",
       "    <tr style=\"text-align: right;\">\n",
       "      <th></th>\n",
       "      <th>Low E</th>\n",
       "      <th>A</th>\n",
       "      <th>D</th>\n",
       "      <th>G</th>\n",
       "      <th>B</th>\n",
       "      <th>High E</th>\n",
       "    </tr>\n",
       "  </thead>\n",
       "  <tbody>\n",
       "    <tr>\n",
       "      <th>Trial 1</th>\n",
       "      <td>78.084238</td>\n",
       "      <td>94.394009</td>\n",
       "      <td>83.419883</td>\n",
       "      <td>74.351805</td>\n",
       "      <td>72.627640</td>\n",
       "      <td>73.835281</td>\n",
       "    </tr>\n",
       "    <tr>\n",
       "      <th>Trial 2</th>\n",
       "      <td>80.217754</td>\n",
       "      <td>91.660960</td>\n",
       "      <td>84.107060</td>\n",
       "      <td>73.702036</td>\n",
       "      <td>72.238460</td>\n",
       "      <td>74.030074</td>\n",
       "    </tr>\n",
       "    <tr>\n",
       "      <th>Trial 3</th>\n",
       "      <td>79.251896</td>\n",
       "      <td>93.231319</td>\n",
       "      <td>85.543875</td>\n",
       "      <td>74.223632</td>\n",
       "      <td>74.266087</td>\n",
       "      <td>72.632110</td>\n",
       "    </tr>\n",
       "    <tr>\n",
       "      <th>Trial 4</th>\n",
       "      <td>79.283575</td>\n",
       "      <td>92.436149</td>\n",
       "      <td>84.750969</td>\n",
       "      <td>73.464419</td>\n",
       "      <td>72.943269</td>\n",
       "      <td>72.367062</td>\n",
       "    </tr>\n",
       "    <tr>\n",
       "      <th>Trial 5</th>\n",
       "      <td>77.989943</td>\n",
       "      <td>92.369576</td>\n",
       "      <td>84.839314</td>\n",
       "      <td>74.482604</td>\n",
       "      <td>73.110182</td>\n",
       "      <td>73.262802</td>\n",
       "    </tr>\n",
       "  </tbody>\n",
       "</table>\n",
       "</div>"
      ],
      "text/plain": [
       "             Low E          A          D          G          B     High E\n",
       "Trial 1  78.084238  94.394009  83.419883  74.351805  72.627640  73.835281\n",
       "Trial 2  80.217754  91.660960  84.107060  73.702036  72.238460  74.030074\n",
       "Trial 3  79.251896  93.231319  85.543875  74.223632  74.266087  72.632110\n",
       "Trial 4  79.283575  92.436149  84.750969  73.464419  72.943269  72.367062\n",
       "Trial 5  77.989943  92.369576  84.839314  74.482604  73.110182  73.262802"
      ]
     },
     "execution_count": 74,
     "metadata": {},
     "output_type": "execute_result"
    }
   ],
   "source": [
    "Low_E_th = pd.DataFrame(Low_E_th)\n",
    "A_th = pd.DataFrame(A_th)\n",
    "D_th = pd.DataFrame(D_th)\n",
    "G_th = pd.DataFrame(G_th)\n",
    "B_th = pd.DataFrame(B_th)\n",
    "High_E_th = pd.DataFrame(High_E_th)\n",
    "th_final = pd.concat([Low_E_th, A_th, D_th, G_th, B_th, High_E_th], axis = 1)\n",
    "th_final.columns = np.arange(0,th_final.shape[1])\n",
    "th_final.index = np.arange(0,th_final.shape[0])\n",
    "th_final = th_final.rename(columns = {0: \"Low E\",\n",
    "                                      1: \"A\",\n",
    "                                      2: \"D\",\n",
    "                                      3: \"G\",\n",
    "                                      4: \"B\",\n",
    "                                      5: \"High E\"},\n",
    "                           index = {0: \"Trial 1\",\n",
    "                                    1: \"Trial 2\",\n",
    "                                    2: \"Trial 3\",\n",
    "                                    3: \"Trial 4\",\n",
    "                                    4: \"Trial 5\"})\n",
    "th_final"
   ]
  },
  {
   "cell_type": "code",
   "execution_count": 75,
   "metadata": {},
   "outputs": [
    {
     "data": {
      "text/html": [
       "<div>\n",
       "<style scoped>\n",
       "    .dataframe tbody tr th:only-of-type {\n",
       "        vertical-align: middle;\n",
       "    }\n",
       "\n",
       "    .dataframe tbody tr th {\n",
       "        vertical-align: top;\n",
       "    }\n",
       "\n",
       "    .dataframe thead th {\n",
       "        text-align: right;\n",
       "    }\n",
       "</style>\n",
       "<table border=\"1\" class=\"dataframe\">\n",
       "  <thead>\n",
       "    <tr style=\"text-align: right;\">\n",
       "      <th></th>\n",
       "      <th>Average</th>\n",
       "    </tr>\n",
       "  </thead>\n",
       "  <tbody>\n",
       "    <tr>\n",
       "      <th>Low E</th>\n",
       "      <td>78.965481</td>\n",
       "    </tr>\n",
       "    <tr>\n",
       "      <th>A</th>\n",
       "      <td>92.818402</td>\n",
       "    </tr>\n",
       "    <tr>\n",
       "      <th>D</th>\n",
       "      <td>84.532220</td>\n",
       "    </tr>\n",
       "    <tr>\n",
       "      <th>G</th>\n",
       "      <td>74.044899</td>\n",
       "    </tr>\n",
       "    <tr>\n",
       "      <th>B</th>\n",
       "      <td>73.037128</td>\n",
       "    </tr>\n",
       "    <tr>\n",
       "      <th>High E</th>\n",
       "      <td>73.225466</td>\n",
       "    </tr>\n",
       "  </tbody>\n",
       "</table>\n",
       "</div>"
      ],
      "text/plain": [
       "          Average\n",
       "Low E   78.965481\n",
       "A       92.818402\n",
       "D       84.532220\n",
       "G       74.044899\n",
       "B       73.037128\n",
       "High E  73.225466"
      ]
     },
     "execution_count": 75,
     "metadata": {},
     "output_type": "execute_result"
    }
   ],
   "source": [
    "average_th = pd.DataFrame(th_final.mean(axis = 0))\n",
    "average_th = average_th.rename(columns = {0 : \"Average\"})\n",
    "average_th"
   ]
  },
  {
   "cell_type": "code",
   "execution_count": 76,
   "metadata": {},
   "outputs": [
    {
     "data": {
      "image/png": "[encoded data removed]",
      "text/plain": [
       "<Figure size 1008x360 with 1 Axes>"
      ]
     },
     "metadata": {
      "needs_background": "light"
     },
     "output_type": "display_data"
    }
   ],
   "source": [
    "plt.figure(figsize=(14,5))\n",
    "plt.plot(notes, average_th, color = 'r', label='Third Harmonic', marker = 'o', alpha=0.75)\n",
    "plt.title(\"Third Harmonic\")\n",
    "plt.ylabel(\"String Tension\")\n",
    "plt.legend(loc='best')\n",
    "plt.savefig('average-tension-per-string-th.png')"
   ]
  },
  {
   "cell_type": "markdown",
   "metadata": {},
   "source": [
    "## String Tension for Fundamental Frequency, Second Harmonic, and Third Harmonic"
   ]
  },
  {
   "cell_type": "code",
   "execution_count": 79,
   "metadata": {},
   "outputs": [
    {
     "data": {
      "image/png": "[encoded data removed]",
      "text/plain": [
       "<Figure size 1008x360 with 1 Axes>"
      ]
     },
     "metadata": {
      "needs_background": "light"
     },
     "output_type": "display_data"
    }
   ],
   "source": [
    "plt.figure(figsize=(14,5))\n",
    "plt.plot(notes, average_ff, color = 'r', label='Fundamental Frequency', marker = 'o', alpha=0.75)\n",
    "plt.plot(notes, average_sh, color = 'b', label='Second Harmonic', marker = 'v', alpha=0.75)\n",
    "plt.plot(notes, average_th, color = 'y', label='Third Harmonic', marker = 's', alpha=0.75)\n",
    "plt.ylabel(\"String Tension\")\n",
    "plt.legend(loc='best')\n",
    "plt.savefig('average-tension-per-string-final.png')"
   ]
  }
 ],
 "metadata": {
  "kernelspec": {
   "display_name": "Python 3",
   "language": "python",
   "name": "python3"
  },
  "language_info": {
   "codemirror_mode": {
    "name": "ipython",
    "version": 3
   },
   "file_extension": ".py",
   "mimetype": "text/x-python",
   "name": "python",
   "nbconvert_exporter": "python",
   "pygments_lexer": "ipython3",
   "version": "3.8.5"
  },
  "latex_envs": {
   "LaTeX_envs_menu_present": true,
   "autoclose": false,
   "autocomplete": true,
   "bibliofile": "biblio.bib",
   "cite_by": "apalike",
   "current_citInitial": 1,
   "eqLabelWithNumbers": true,
   "eqNumInitial": 1,
   "hotkeys": {
    "equation": "Ctrl-E",
    "itemize": "Ctrl-I"
   },
   "labels_anchors": false,
   "latex_user_defs": false,
   "report_style_numbering": false,
   "user_envs_cfg": false
  }
 },
 "nbformat": 4,
 "nbformat_minor": 4
}
